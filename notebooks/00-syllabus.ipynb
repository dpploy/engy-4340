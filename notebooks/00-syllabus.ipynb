{
 "cells": [
  {
   "cell_type": "markdown",
   "metadata": {},
   "source": [
    "Engy-4340 Fall 2023 UMass Lowell; Prof. V. F. de Almeida **06Sep2023**\n",
    "\n",
    "# [Engy-4340: Nuclear Reactor Theory](https://www.uml.edu/catalog/courses/ENGY/4340)"
   ]
  },
  {
   "cell_type": "markdown",
   "metadata": {},
   "source": [
    "### Instructor: Prof. Valmor F. de Almeida                 \n",
    "**Office:**    Southwick 201B North Campus. <br> \n",
    "**Email:**     valmor_dealmeida@uml.edu. <br>\n",
    "**Web:**       https://www.uml.edu/Engineering/Chemical/faculty/de-Almeida-Valmor.aspx <br>   \n",
    "**Lectures:** \n",
    " + Mon/Wed 3:30 – 4:45 pm, **Olsen Hall 404 North Campus**. <br> \n",
    " \n",
    "**Days meetings total :** 27. <br>\n",
    "**Week meetings total:** 15/16. <br>\n",
    "\n",
    "<font color=\"red\"><b>Website:</b></font> On-line course [repository](https://github.com/dpploy/engy-4340) and UMass Lowell Blackboard System. <br>\n",
    "\n",
    "**Office hours and location:** <font color=\"red\">Thursdays and Fridays 12 to 1 pm or by appointment</font>. <br>\n",
    "**Additional office hours:**  email prof. de Almeida for appointment. <br>\n",
    "**Additional help:** <font color=\"red\"><b>UML Linux Club meetings, Fridays 5 to 6 pm</b></font>, email prof. de Almeida\n",
    "\n",
    "**Teaching assistant:** None. <br>\n",
    "    \n",
    "**Catalog description:** <br>\n",
    "Emphasis is placed on neutron interactions in various nuclear core and shield configurations along with the development, solution, and analysis of the neutron balance equation for various situations. Several aspects of nuclear reactor core physics including neutron diffusion, criticality, power production, reactor kinetics, reactivity feedback and control, fuel depletion, fission product poisoning, and some energy removal considerations are treated. General reactor core design and safety considerations are also discussed.<br>\n",
    "\n",
    "**Pre-requisites:** Engy-3310 Fund. of Nuclear Science & Engineering, and Math-2360 Eng. Differential Equations.<br>\n",
    "**Course designation:** Core undergraduate. <br>\n",
    "\n",
    "**Helful:** [ChEn-3170 Computational Methods in Chemical Engineering](https://github.com/dpploy/engy-3170).<br>\n",
    "\n",
    "**Textbooks and Notes:**<br>\n",
    "Course notes are provided; in addition two textbooks are required (one texbook is used in the pre-req Engy-3310).\n",
    " 1. *Classroom course notes and repository (updated during the semester)*\n",
    " 1. <font color=\"red\">[LB]</font> [*Introduction to Nuclear Engineering*](https://www.amazon.com/Introduction-Nuclear-Engineering-John-Lamarsh/dp/0134570057/ref=pd_sbs_1/146-5808479-2236508?pd_rd_w=dGx67&pf_rd_p=0a3ad226-8a77-4898-9a99-63ffeb1aef90&pf_rd_r=S4HSREX10HTZZHGAT1JR&pd_rd_r=5a3989e3-d824-4845-903a-3b2686e1a28a&pd_rd_wg=jUXXe&pd_rd_i=0134570057&psc=1), John R. Lamarsh and Anthony J. Baratta, Pearson, 2018 Fourth Edition (or Third Edition), 802 pp.\n",
    " 1. <font color=\"red\">[SF]</font> [*Fundamentals of Nuclear Science and Engineering*](https://www.amazon.com/Fundamentals-Nuclear-Science-Engineering-Kenneth/dp/1498769292/ref=sr_1_3?crid=29XAMFC5G6VFL&keywords=J.+Kenneth+Shultis+and+Richard+E.+Faw&qid=1642140584&s=books&sprefix=j.+kenneth+shultis+and+richard+e.+faw%2Cstripbooks%2C95&sr=1-3), J. Kenneth Shultis and Richard E. Faw, CRC Press, 2017 Third Edition (or a recent previous edition), 638 pp.\n",
    " <br>\n",
    " \n",
    "<font color=\"red\"><b>Software used in this course and homework:</b></font> Jupyter notebook access options for this course<br>\n",
    "\n",
    " 1. <font color=\"red\"><b>Preferred way:</b></font> [Anaconda](https://docs.anaconda.com/anaconda/install/#) free download (use the Python 3 version) for Mac OS X or Windows (Linux too in case you are a rare die-hard programmer; if this is your case come talk to me). After install, use [Anaconda-Navigator](https://docs.anaconda.com/anaconda/navigator/) to start a Jupyter Notebook server.\n",
    " \n",
    " 1. Use the [UMass Lowell vLabs](https://www.uml.edu/IT/Services/vLabs/) Learning Commons machine. Download the VMWare Horizon Client and install on your computer. Login with your academic credentials. Anaconda is pre-installed, use the Anaconda-Navigator to start the Jupyter Notebook application.\n",
    " \n",
    " 1. Use Binder at the course [repository](https://github.com/dpploy/engy-4340)\n",
    " \n",
    "<font color=\"red\"><b>Instructive background</b></font> **on programming environment, review of undergraduate computational methods:** [ChEn-3170](https://github.com/dpploy/chen-3170)<br>\n",
    "\n",
    "**Suplement materials:** On-line course [repository: https://github.com/dpploy/engy-4340](https://github.com/dpploy/engy-4340)."
   ]
  },
  {
   "cell_type": "markdown",
   "metadata": {},
   "source": [
    "**Course topics (<font color=\"red\"><b>Fission Reactors</b></font>):**\n",
    " - Nuclear reactions and neutron interactions\n",
    " - Power reactor core (multiplication factor formulae)\n",
    " - Reactor kinetics\n",
    " - Spatial diffusion of neutrons\n",
    " - Neutron distributions in reactors\n",
    " - Thermal energy coupling\n",
    " - Reactivity feedback\n",
    " - Long-term reactor core behavior\n",
    " \n",
    "**Grading:** for grading purposes the requirements for this course include\n",
    " + Two midterm exams and a final exam (all closed book, closed notes).\n",
    "   - Additional, optional oral exam (per appointment) corresponding to any of the written exams taken (grade improvement).\n",
    " + Homework every other week (total of 7).\n",
    " \n",
    "|**Course Grading** |**Value**|         \n",
    "|:------------------|---------|\n",
    "| Midterm 1         | 20/100  |\n",
    "| Midterm 2         | 20/100  |\n",
    "| Final             | 15/100  |\n",
    "| Homework (7)      | 45/100  |\n",
    "\n",
    "|**Letter Grade Scale** |**Value**|\n",
    "|:----------------------|:-------:|\n",
    "| A                     | 92+     |\n",
    "| A-                    | 87–91.9 |\n",
    "| B+                    | 82–86.9 |\n",
    "| B                     | 77–81.9 |\n",
    "| B-                    | 72–76.9 |\n",
    "| C+                    | 67–71.9 |\n",
    "| C                     | 62–66.9 |\n",
    "| C-                    | 58–61.9 |\n",
    "| D+                    | 54–57.9 |\n",
    "| D                     | 50–53.9 |\n",
    "| F                     | <50     |"
   ]
  },
  {
   "cell_type": "markdown",
   "metadata": {},
   "source": [
    "**Learning outcomes:** Upon completion of this course, a student should be able to\n",
    "1. Understand nuclear reactions and their energetics.\n",
    "1. Calculate radioactive decay of nuclides.\n",
    "1. Know how neutrons interact with matter through scattering and absorption.\n",
    "1. Quantitatively assess neutron slow down.\n",
    "1. Apply basic neutron balance law.\n",
    "1. Understand the kinetics of neutron in single point reactors."
   ]
  },
  {
   "cell_type": "markdown",
   "metadata": {},
   "source": [
    "**Schedule (updated weekly):**\n",
    "\n",
    "|**Week**|Day| **Date**  |**Notebook**|**Assessment**|**Note**|\n",
    "|:-------|:-:|:---------:|:-----------|:-------------|:------:|\n",
    "|-       |-  | <font color=\"blue\"><b>September</b></font>|-           |-             |-       |\n",
    "| **1**  | **W** |**06Sep23**| [00](https://nbviewer.jupyter.org/github/dpploy/engy-4340/blob/main/notebooks/00-syllabus.ipynb)/class notes   |  -  |  Syllabus/Thermal Neutron<font color=\"blue\"><b> LB 2/SF 2,3</b></font> |\n",
    "| **2**  | **M** |**11Sep23**|  class notes  | [Homework 01](https://nbviewer.org/github/dpploy/engy-4340/blob/main/notebooks/homework-01.ipynb) (due 25Sep23)   | Thermal Neutron/Fission Reaction <font color=\"blue\"><b>LB 3/SF 4, 6</b></font> |\n",
    "| 2  | W |13Sep22| class notes |  -  |  Fission Reaction/Products <font color=\"blue\"><b>LB 3/SF 4, 6</b></font> |\n",
    "| **3**  | **M** |**18Sep23**| class notes |  -  |  Fission Products/Decay <font color=\"blue\"><b>LB 3/SF 5, 6</b></font> |\n",
    "| 3  | W |20Sep22| class notes  |  -  |  Radioactive Decay <font color=\"blue\"><b>LB 3/SF 6, 7</b></font> |\n",
    "| **4**  | **M** |**25Sep23**|class notes |  [Homework 02](https://nbviewer.org/github/dpploy/engy-4340/blob/main/notebooks/homework-02.ipynb) (due 11Oct23) | Decay/Neutron Scattering <font color=\"blue\"><b>LB 3/SF 6, 7</b></font> |\n",
    "| 4  | W |27Sep23| class notes  |  -  |  Microscopic Cross Section <font color=\"blue\"><b>LB 3/SF 6, 7</b></font>  |"
   ]
  },
  {
   "cell_type": "markdown",
   "metadata": {},
   "source": [
    "|**Week**|Day| **Date**  |**Notebook**|**Assessment**|**Note**|\n",
    "|:-------|:-:|:---------:|:-----------|:-------------|:------:|\n",
    "|-       |-  | <font color=\"blue\"><b>October</b></font>|-           |-             |-       |\n",
    "| **5**  | **M** |**02Oct23**| class notes | - | Microscopic/Macroscopic Cross Section <font color=\"blue\"><b>LB 3/SF 6, 7</b></font> |\n",
    "| 5 | W |04Oct23| class notes  |  -  | Macroscopic Cross Section <font color=\"blue\"><b>LB 3/SF 6, 7</b></font> |\n",
    "| **6**  | **~M~** |**~09Oct23~**| No class  | No class  | <font color=\"red\"><b>Columbus day holiday</b>  |\n",
    "| 6  | W |11Oct23|class notes| [Homework 03](https://nbviewer.org/github/dpploy/engy-4340/blob/main/notebooks/homework-03.ipynb) (due 23Oct23)  | Macroscopic Cross Section <font color=\"blue\"><b>LB 3/SF 6, 7</b></font> |\n",
    "| **7**  | **M** |**16Oct23**| - | <font color=\"red\"><b>Midterm 1</b></font> | -  |\n",
    "| 7  | W |18Oct23| class notes  | -  | Classroom problem solving HW2 P.2 |\n",
    "| **8**  | **M** |**23Oct23**| class notes  | [Homework 04](https://nbviewer.org/github/dpploy/engy-4340/blob/main/notebooks/homework-04.ipynb) (due 06Nov23) | Classroom problem solving HW2 P.3 |\n",
    "| 8  | W |25Oct23| class notes  | - | Cross Section Energy Dependency <font color=\"blue\"><b>LB 3/SF 6, 7</b></font> |\n",
    "| **9**  | **M** |**30Oct23**| class notes  | - |  Cross Section Energy Dependency <font color=\"blue\"><b>LB 3/SF 6, 7</b></font> |"
   ]
  },
  {
   "cell_type": "markdown",
   "metadata": {},
   "source": [
    "|**Week**|Day| **Date**  |**Notebook**|**Assessment**|**Note**|\n",
    "|:-------|:-:|:---------:|:-----------|:-------------|:------:|\n",
    "|-       |-  | <font color=\"blue\"><b>November</b></font>|-           |-             |-       |\n",
    "| 9  | W |01Nov23| class notes | - | Classroom problem solving HW3/Midterm 1 P.4 |\n",
    "| **10**  | **M** |**~06Nov23~**| no class |[Homework 05](https://nbviewer.org/github/dpploy/engy-4340/blob/main/notebooks/homework-05.ipynb) (due 20Nov22)| AIChE meetings |\n",
    "| 10 | W |~08Nov23~| no class | HW05 | AIChE meetings |\n",
    "| **11**  | **M** |**13Nov22**| class notes | - | Neutron Excitation Energy / Head-on Elastic Scattering Collision / Collision Probability|\n",
    "| 11 |W|15Nov22| no class  | - | Collision Probability / Neutron Slowdown Decrement  |\n",
    "| **12**  | **M** |**20Nov22**| -  | [Homework 06](https://nbviewer.org/github/dpploy/engy-4340/blob/main/notebooks/homework-06.ipynb) (due 04Dec22) | Neutron Distribution in Energy / Fuel and Moderators / Generation Factor $\\eta$ |\n",
    "| ~12~  | ~W~ |~22Nov22~| no class  | - | <font color=\"red\"><b>Thanksgiving holiday</b></font> |\n",
    "| **13** | **M** |**27Nov22**| class notes | <font color=\"red\"><b>Midterm 2</b></font> | - |\n",
    "| 13  | W |29Nov22| class notes | - | Neutron Energy Spectra / Neutron Flux |"
   ]
  },
  {
   "cell_type": "markdown",
   "metadata": {},
   "source": [
    "|**Week**|Day| **Date**  |**Notebook**|**Assessment**|**Note**|\n",
    "|:-------|:-:|:---------:|:-----------|:-------------|:------:|\n",
    "|-       |-  | <font color=\"blue\"><b>December</b></font>|-           |-             |-       |\n",
    "| **14**  | **M** |**04Dec22**| class notes  | [Homework 07](https://nbviewer.org/github/dpploy/engy-4340/blob/main/notebooks/homework-07.ipynb) (due 18Dec22) | Homework 04 classroom solution |\n",
    "| 14  | W |06Dec22| class notes  | - | Homework 05 classroom solution |\n",
    "| **15**  | **M** |**11Dec22**| class notes | - | Neutron Flux/Nuclear Heat Source/<font color=\"red\"> |\n",
    "| 15  | W |13Dec22| class notes | -| Neutron Flux/Nuclear Heat Source |\n",
    "| 16  | ? |16-22Dec22| - | <font color=\"red\"><b>Final Exam ?pm to ?pm ? Hall ?</b></font> | Comprehensive |"
   ]
  },
  {
   "cell_type": "markdown",
   "metadata": {},
   "source": [
    "### General Information    \n",
    "\n",
    "**Attendance:** Students are expected to attend all classes.\n",
    "\n",
    "**Credit hour policy:** A credit hour requires a minimum of 2 hours of out-of-class student **deep work** per 1 hour of instructor-led course activity.\n",
    "\n",
    "**Student conduct code:** [UMass Lowell](https://www.uml.edu/student-services/student-conduct/conduct-code/#university-of-massachusetts-lowell-student-conduct)\n",
    "\n",
    "**Classroom/Online Conduct:** <font color=\"red\">Students are expected to exhibit professional and respectful behavior that is conducive to a mutually beneficial learning environment in the classroom. Examples of inappropriate behavior include: text messaging, listening to music, cell phone use (other than the campus alert system), late arrivals, early departures, use of laptops for other than class purposes, disrespectful comments or behavior, intentional disruptions, failure to follow faculty directives, etc. Students in violation of these standards may be asked to leave class and/or be referred to the Dean of Students for disciplinary action.</font>\n",
    "\n",
    "**Academic Integrity:** <font color=\"red\">Cheating and plagiarism will not be tolerated. A first offense will result in a failing grade for the assignment/exam in question and a formal filing with the Office of Provost according to the Academic Integrity Policy. A second offense could lead to a failing grade in the course, suspension or expulsion, as detailed in the policy, defined [here](https://www.uml.edu/Catalog/Undergraduate/Policies/Academic-Policies/Academic-Integrity.aspx).</font>\n",
    "\n",
    "**Instructional Resources:**  The Centers for Learning and Academic Support Services provide many tutoring resources; more details are available [here](https://www.uml.edu/class/)\n",
    "Technology Resources: For a listing of available computing and software resources available to students, [visit here]( https://www.uml.edu/IT/Services/DLC/).\n",
    "\n",
    "**Accommodations:** In accordance with University policy and the ADA, accommodations are provided for students with documented disabilities. If you have a disability, please contact the Office of Disability Services as soon as possible. Their office is in UC 220 (978-934-4574, Disability@uml.edu). Documentation of disability is confidential. Requests for accommodation for religious reasons should be directed to Equal Opportunity and Outreach at 978-934-3565, Wannalancit Mills, Suite 301. \n",
    "\n",
    "**Counseling Services:** As part of the Wellness Center, Counseling Services at UMass Lowell provide mental health counseling, consultation and referrals to help students achieve personal and academic success. They also assist students in better understanding and coping with their feelings, relationships, and choices surrounding their academic success. [Visit](https://www.uml.edu/student-services/Counseling/)\n",
    "Veterans’ Services: UMass Lowell is committed to helping our military students take full advantage of all the educational benefits available through the federal and state governments. For complete information on the services and resources available please visit our [website](https://www.uml.edu/student-services/Veterans/).\n",
    "University Cancellation Information: If campus is closed (most likely for weather), visit the website for announcements relevant to the class."
   ]
  }
 ],
 "metadata": {
  "kernelspec": {
   "display_name": "Python 3 (ipykernel)",
   "language": "python",
   "name": "python3"
  },
  "language_info": {
   "codemirror_mode": {
    "name": "ipython",
    "version": 3
   },
   "file_extension": ".py",
   "mimetype": "text/x-python",
   "name": "python",
   "nbconvert_exporter": "python",
   "pygments_lexer": "ipython3",
   "version": "3.11.5"
  },
  "latex_envs": {
   "LaTeX_envs_menu_present": true,
   "autoclose": false,
   "autocomplete": true,
   "bibliofile": "biblio.bib",
   "cite_by": "apalike",
   "current_citInitial": 1,
   "eqLabelWithNumbers": true,
   "eqNumInitial": 1,
   "hotkeys": {
    "equation": "Ctrl-E",
    "itemize": "Ctrl-I"
   },
   "labels_anchors": false,
   "latex_user_defs": false,
   "report_style_numbering": false,
   "user_envs_cfg": false
  },
  "toc": {
   "base_numbering": 1,
   "nav_menu": {},
   "number_sections": true,
   "sideBar": true,
   "skip_h1_title": false,
   "title_cell": "Table of Contents",
   "title_sidebar": "Contents",
   "toc_cell": false,
   "toc_position": {},
   "toc_section_display": true,
   "toc_window_display": false
  }
 },
 "nbformat": 4,
 "nbformat_minor": 2
}
