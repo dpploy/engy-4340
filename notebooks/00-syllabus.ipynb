{
 "cells": [
  {
   "cell_type": "markdown",
   "metadata": {},
   "source": [
    "Engy-5050 Spring 2022 UMass Lowell; Prof. V. F. de Almeida **14Jan2022**\n",
    "\n",
    "# Engy-5050: Nuclear Reactor Physics"
   ]
  },
  {
   "cell_type": "markdown",
   "metadata": {},
   "source": [
    "### Instructor: Prof. Valmor F. de Almeida                 \n",
    "**Office:**    Southwick 202B. <br> \n",
    "**Email:**     valmor_dealmeida@uml.edu. <br>\n",
    "**Web:**       https://www.uml.edu/Engineering/Chemical/faculty/de-Almeida-Valmor.aspx <br>   \n",
    "**Lectures:** \n",
    " + Mon/Wed 5:00 – 6:15 pm, **Ball Hall 313 North Campus**. <br> \n",
    " \n",
    "**Days meetings total :** 27. <br>\n",
    "**Week meetings total:** 16. <br>\n",
    "\n",
    "<font color=\"red\"><b>Website:</b></font> On-line course [repository](https://github.com/dpploy/engy-5310) and UMass Lowell Blackboard System. <br>\n",
    "**Office hours and location:** <font color=\"red\">meet after lecture in classroom</font>. <br>\n",
    "**Additional office hours:**  email prof. de Almeida. <br>\n",
    "**Additional help:** UML Linux Club meetings, Fri 5 to 6 pm, email prof. de Almeida\n",
    "     \n",
    "**Catalog description:** <br>\n",
    "Advanced treatment of several topics in reactor physics, including cross sections and processing methods, development of transport theory, reduction to diffusion theory, and analyses of analytical and numerical solutions of the resultant balance equations.<br>\n",
    "\n",
    "**Ideal pre-requisites:** Engy-4340 Nuclear Reactor Theory, [Engy-5310 Computational Continuum Transport Phenomena](https://github.com/dpploy/engy-5310), [ChEn-3170 Computational Methods in Chemical Engineering](https://github.com/dpploy/engy-5310).<br>\n",
    "**Course designation:** Core graduate. <br>\n",
    "    \n",
    "**References:**<br>\n",
    "There is no required textbook. Course notes are provided in addition to suggested references.\n",
    " 1. *Classroom course notes and repository (updated when possible)*\n",
    " <br>\n",
    "\n",
    " 1. [*Introduction to Nuclear Engineering*](https://www.amazon.com/Introduction-Nuclear-Engineering-John-Lamarsh/dp/0134570057/ref=pd_sbs_1/146-5808479-2236508?pd_rd_w=dGx67&pf_rd_p=0a3ad226-8a77-4898-9a99-63ffeb1aef90&pf_rd_r=S4HSREX10HTZZHGAT1JR&pd_rd_r=5a3989e3-d824-4845-903a-3b2686e1a28a&pd_rd_wg=jUXXe&pd_rd_i=0134570057&psc=1), John R. Lamarsh and Anthony J. Baratta, Pearson, 2018 Fourth Edition, 802 pp.\n",
    " 1. [*Fundamentals of Nuclear Science and Engineering*](https://www.amazon.com/Fundamentals-Nuclear-Science-Engineering-Kenneth/dp/1498769292/ref=sr_1_3?crid=29XAMFC5G6VFL&keywords=J.+Kenneth+Shultis+and+Richard+E.+Faw&qid=1642140584&s=books&sprefix=j.+kenneth+shultis+and+richard+e.+faw%2Cstripbooks%2C95&sr=1-3), J. Kenneth Shultis and Richard E. Faw, CRC Press, 2017 Third Edition, 638 pp.\n",
    " <br>\n",
    " 1. [*Introduction to Nuclear Reactor Theory*](https://www.amazon.com/Introduction-Nuclear-Reactor-Theory-Lamarsh/dp/0894480405/ref=sr_1_1?crid=1H5TTNWYSEH3G&keywords=Introduction+to+Nuclear+Reactor+Theory+lamarsh&qid=1642140895&s=books&sprefix=introduction+to+nuclear+reactor+theory+lamarsh%2Cstripbooks%2C111&sr=1-1), John R. Lamarsh, ANS, 2002 (1966), 585 pp.\n",
    " 1. [*Nuclear Reactor Theory*](https://www.amazon.com/Finite-Element-Method-Elliptic-Problems/dp/0444557172/ref=sr_1_1?dchild=1&keywords=ciarlet+finite+element&qid=1611645174&s=books&sr=1-1), George I. Bell and Samuel Glasstone, Van Nonstrand Rheinhold, 1970, 619 pp.\n",
    " 1. [*Computational Methods of Neutron Transport*](https://www.amazon.com/Computational-Methods-Neutron-Transport-Lewis/dp/0471092452/ref=sr_1_1?crid=XCFK4UI3256D&keywords=Computational+Methods+of+Neutron+Transport&qid=1642143637&s=books&sprefix=computational+methods+of+neutron+transport%2Cstripbooks%2C211&sr=1-1#customerReviews),  Elmer E. Lewis and Warren F. Miller Jr., ANS, 1993, 401 pp. \n",
    " 1. [*Introductory Nuclear Reactor Theory*](https://www.amazon.com/Introductory-Nuclear-Reinhold-Chemical-Engineering/dp/B0007DP8ES/ref=sr_1_1?crid=2UJVE8311FPB2&keywords=Introductory+Nuclear+Reactor+Theory&qid=1642144892&s=books&sprefix=introductory+nuclear+reactor+theory%2Cstripbooks%2C97&sr=1-1),  Herbert S. Isbin, Reinhold Chemical Engineering Series, 1963, 624 pp. \n",
    " 1. [*The Physical Theory of Neutron Chain Reactors*](https://www.amazon.com/Physical-Theory-Neutron-Chain-Reactors/dp/0226885178/ref=sr_1_1?crid=AJPWMZHHTG2T&keywords=The+Physical+Theory+of+Neutron+Chain+Reactors%2C&qid=1642144941&s=books&sprefix=the+physical+theory+of+neutron+chain+reactors%2C%2Cstripbooks%2C92&sr=1-1),  Alvin M. Weinberg and Eugene P. Wigner, University of Chicago Press, 1958, 801 pp.\n",
    " 1. [*Nuclear Reactor Analysis*](https://www.amazon.com/Nuclear-Reactor-Analysis-James-Duderstadt/dp/0471223638),  James J. Duderstadt and Louis J. Hamilton, John Wiley  Sons, Inc., 1976, 650 pp. \n",
    " 1. [*Applied Reactor Physics*](https://www.amazon.com/Applied-Reactor-Physics-Alain-H%C3%A9bert/dp/2553017359),  Alain Hebert, Presses internationales Polytechnique, Third Edition 2020, 410 pp. \n",
    " \n",
    "<font color=\"red\"><b>Software used in this course and homework:</b></font> Jupyter notebook access options for this course<br>\n",
    "\n",
    " 1. <font color=\"red\"><b>Preferred way:</b></font> [Anaconda](https://docs.anaconda.com/anaconda/install/#) free download (use the Python 3 version) for Mac OS X or Windows (Linux too in case you are a rare die-hard programmer; if this is your case come talk to me). After install, use [Anaconda-Navigator](https://docs.anaconda.com/anaconda/navigator/) to start a Jupyter Notebook server.\n",
    " \n",
    " 1. Use the [UMass Lowell vLabs](https://www.uml.edu/IT/Services/vLabs/) Learning Commons machine. Download the VMWare Horizon Client and install on your computer. Login with your academic credentials. Anaconda is pre-installed, use the Anaconda-Navigator to start the Jupyter Notebook application.\n",
    " \n",
    " 1. Use Binder at the course [repository](https://github.com/dpploy/engy-5310)\n",
    " \n",
    "<font color=\"red\"><b>Instructive background</b></font> **on programming environment, review of undergraduate computational methods, and computational methods for differential equations of transport phenomena:** [ChEn-3170](https://github.com/dpploy/chen-3170), [Engy-5310](https://github.com/dpploy/engy-5310).<br>\n",
    "\n",
    "**Suplement materials:** On-line course [repository](https://github.com/dpploy/engy-5050)."
   ]
  },
  {
   "cell_type": "markdown",
   "metadata": {},
   "source": [
    "**Course topics (Exclusively for Fission Reactors):**\n",
    " - Nuclear reactions and neutron interactions\n",
    " - Power reactor core (multiplication factor formulae)\n",
    " - Reactor kinetics\n",
    " - Neutron transport balance\n",
    " - Diffusion transport\n",
    " - Neutron distribution in reactors\n",
    " - Thermal energy coupling\n",
    " - Reactivity feedback\n",
    " - Long-term reactor behavior\n",
    " \n",
    "**Grading:** for grading purposes the requirements for this course include\n",
    " + Two midterm exams.\n",
    " + Final project w/ presentation (up to 2 people) in lieu of a final exam.\n",
    " + Homework (total of 5).\n",
    " \n",
    "|**Course Grading** |**Value**|         \n",
    "|:------------------|---------|\n",
    "| Midterm 1         | 25/100  |\n",
    "| Midterm 2         | 25/100  |\n",
    "| Final project     | 25/100  |\n",
    "| Homework (3)      | 25/100  |\n",
    "\n",
    "|**Letter Grade Scale** |**Value**|\n",
    "|:----------------------|:-------:|\n",
    "| A                     | 92+     |\n",
    "| A-                    | 87–91.9 |\n",
    "| B+                    | 82–86.9 |\n",
    "| B                     | 77–81.9 |\n",
    "| B-                    | 72–76.9 |\n",
    "| C+                    | 67–71.9 |\n",
    "| C                     | 62–66.9 |\n",
    "| C-                    | 58–61.9 |\n",
    "| D+                    | 54–57.9 |\n",
    "| D                     | 50–53.9 |\n",
    "| F                     | <50     |"
   ]
  },
  {
   "cell_type": "markdown",
   "metadata": {},
   "source": [
    "**Learning outcomes:** Upon completion of this course, a student should be able to\n",
    "1. Understand basic neutron physics in fission reactors.\n",
    "1. Know neutron transport balance modeling.\n",
    "1. Use diffusion approximation.\n",
    "1. Know thermal energy and neutron transport coupling.\n",
    "1. Carry out criticality calculations.\n",
    "1. Use single point kinetics reactor models.\n",
    "1. Understand modes of reactivity feedback."
   ]
  },
  {
   "cell_type": "markdown",
   "metadata": {},
   "source": [
    "**Schedule (updated weekly):**\n",
    "\n",
    "|**Week**|Day| **Date**  |**Notebook**|**Assessment**|**Note**|\n",
    "|:-------|:-:|:---------:|:-----------|:-------------|:------:|\n",
    "|-       |-  | <font color=\"blue\"><b>January</b></font>|-           |-             |-       |\n",
    "| **1**  | **W** |**19Jan22**| [00](https://nbviewer.jupyter.org/github/dpploy/engy-5310/blob/main/notebooks/00-syllabus.ipynb)   |  -  |  Syllabus/Nuclear data |\n",
    "| **2**  | **M** |**24Jan22**|  -  |  -  |  Chap. 2 Lamarsh/Baratta |\n",
    "| 2  | W |26Jan22|  -  |  -  |  Chap. 3 Lamarsh/Baratta |\n",
    "| **3**  | **M** |**31Jan22**| class notes |  -  |  Nuclear physics fundamentals |\n",
    "| 3  | W |02Feb22| class notes  |  -  |  Nuclear physics fundamentals |\n",
    "| **4**  | **M** |**07Feb22**| - |  -  |  Chap. 3 and Chap. 4 Lamarsh/Baratta |\n",
    "| 4  | W |09Feb22| class notes  |  -  |  Neutron Transport |"
   ]
  },
  {
   "cell_type": "markdown",
   "metadata": {},
   "source": [
    "|**Week**|Day| **Date**  |**Notebook**|**Assessment**|**Note**|\n",
    "|:-------|:-:|:---------:|:-----------|:-------------|:------:|\n",
    "|-       |-  | <font color=\"blue\"><b>February</b></font>|-           |-             |-       |\n",
    "| **5**  | **M** |**14Feb22**| class notes | Turn in project topics (supported by 2 journal articles) | Neutron transport |\n",
    "| 5  | W |16Feb22| class notes  |  -  |  Neutron transport |\n",
    "| **6**  | **~M~** |**~21Feb22~**| No class  | No class  | <font color=\"red\"><b>President's day holiday</b>  |\n",
    "| **6**  | **T** |**22Feb22**| class notes | -  | Neutron transport <font color=\"red\"><b>(Monday schedule)</b>  |\n",
    "| 6  | W |24Feb22| class notes  | [Homework 01](https://nbviewer.org/github/dpploy/engy-5050/blob/main/notebooks/homework-01.ipynb) (Due 16Mar22) |  Neutron transport (continue notes on your own) |\n",
    "| **7**  | **M** |**28Feb22**| class notes  | -  | Neutron transport |"
   ]
  },
  {
   "cell_type": "markdown",
   "metadata": {},
   "source": [
    "|**Week**|Day| **Date**  |**Notebook**|**Assessment**|**Note**|\n",
    "|:-------|:-:|:---------:|:-----------|:-------------|:------:|\n",
    "|-       |-  | <font color=\"blue\"><b>March</b></font>|-           |-             |-       |\n",
    "| 7  | W |02Mar22| class notes | Project selections (update)  | Neutron transport |\n",
    "| **8**  | ~M~ |~7Mar22~| No class  | No class | Spring break |\n",
    "| 8  | ~W~ |~9Mar22~| No class  | No class | Spring break |\n",
    "| **9** | **M** |**14Mar22**| No class | No class | Attendance to Re-Connect Nuclear Program Meeting Required |\n",
    "| 9  | W |16Mar22| class notes |<font color=\"red\"><b>Midterm exam</b> | Closed book/notes |\n",
    "| **10**  | **M** |**21Mar22**| class notes  | Return midterm 1 take-home exam | Neutron transport 0th and 1st direction moments |\n",
    "| 10  | W |23Mar22| class notes  | [Homework 02](https://nbviewer.org/github/dpploy/engy-5050/blob/main/notebooks/homework-02.ipynb) (Due 13Apr22)| Mono-energetic neutron transport  |\n",
    "| **11**  | **M** |**28Mar22**| class notes  | class notes| Neutron Diffusion |\n",
    "| 11  | W |30Mar22| class notes  | class notes | Neutron Diffusion |"
   ]
  },
  {
   "cell_type": "markdown",
   "metadata": {},
   "source": [
    "|**Week**|Day| **Date**  |**Notebook**|**Assessment**|**Note**|\n",
    "|:-------|:-:|:---------:|:-----------|:-------------|:------:|\n",
    "|-       |-  | <font color=\"blue\"><b>April</b></font>|-           |-             |-       |\n",
    "| **12**  | **M** |**04Apr22**| class notes  | [Homework 03](https://nbviewer.org/github/dpploy/engy-5050/blob/main/notebooks/homework-03.ipynb) (Due 13Apr22)| Diffusion Planar Source |\n",
    "| 12  | W |06Apr22| class notes  | class notes | Diffusion Sphere Source |\n",
    "| **13**  | **M** |**11Apr22**| [02](https://nbviewer.org/github/dpploy/engy-5050/blob/main/notebooks/02-diff-plane-source.ipynb)/[03](https://nbviewer.org/github/dpploy/engy-5050/blob/main/notebooks/03-diff-point-source.ipynb) | class notes | Diffusion Planar/Sphere Source |\n",
    "| 13  | W |13Apr22| [04](https://nbviewer.org/github/dpploy/engy-5050/blob/main/notebooks/04-diff-line-source.ipynb)  | <font color=\"red\"><b>Take-home midterm 2 exam distributed</b> | Diffusion Cylinder Source |\n",
    "| **14** | ~M~ |~18Apr22~| No class  | No class | Patriot's Day holiday |\n",
    "| 14  | W |20Apr22| -   | - | Reflector/Criticality|\n",
    "| 14  | F |22Apr22| -   | <font color=\"red\"><b>Midterm 2 exam due date</b></font> | Multi-Group Diffusion <font color=\"red\"><b>Monday Schedule</font> |\n",
    "| **15**  | **M** |**25Apr22**| -   | class notes | Reflector/Criticality|\n",
    "| 15  | W |27Apr22| -   | class notes | Multi-Group Diffusion |"
   ]
  },
  {
   "cell_type": "markdown",
   "metadata": {},
   "source": [
    "|**Week**|Day| **Date**  |**Notebook**|**Assessment**|**Note**|\n",
    "|:-------|:-:|:---------:|:-----------|:-------------|:------:|\n",
    "|-       |-  | <font color=\"blue\"><b>May</b></font>|-           |-             |-       |\n",
    "| **16**  | **~M~** | **~02May22~** | No class | No class | finals week |\n",
    "| 16  | ~W~ | ~04May22~ | No class | No class | finals week |\n",
    "| **17**  | **M** | **09May22** | - | <font color=\"red\"><b>Project Presentation<b></font> | SOU 204 10am to 1pm  |"
   ]
  },
  {
   "cell_type": "markdown",
   "metadata": {},
   "source": [
    "### General Information    \n",
    "\n",
    "**Attendance:** Students are expected to attend all classes.\n",
    "\n",
    "**Credit hour policy:** A credit hour requires a minimum of 2 hours of out-of-class student **deep work** per 1 hour of instructor-led course activity.\n",
    "\n",
    "**Classroom/Online Conduct:** <font color=\"red\">Students are expected to exhibit professional and respectful behavior that is conducive to a mutually beneficial learning environment in the classroom/online. Examples of inappropriate behavior include: text messaging, listening to music, cell phone use (other than the campus alert system), late arrivals, early departures, use of laptops for other than class purposes, disrespectful comments or behavior, intentional disruptions, failure to follow faculty directives, etc. Students in violation of these standards may be asked to leave class (or virtual class) and/or be referred to the Dean of Students for disciplinary action.</font>\n",
    "\n",
    "**Academic Integrity:** <font color=\"red\">Cheating and plagiarism will not be tolerated. A first offense will result in a failing grade for the assignment/exam in question and a formal filing with the Office of Provost according to the Academic Integrity Policy. A second offense could lead to a failing grade in the course, suspension or expulsion, as detailed in the policy, defined [here](https://www.uml.edu/Catalog/Undergraduate/Policies/Academic-Policies/Academic-Integrity.aspx).</font>\n",
    "\n",
    "**Instructional Resources:**  The Centers for Learning and Academic Support Services provide many tutoring resources; more details are available [here](https://www.uml.edu/class/)\n",
    "Technology Resources: For a listing of available computing and software resources available to students, [visit here]( https://www.uml.edu/IT/Services/DLC/).\n",
    "\n",
    "**Accommodations:** In accordance with University policy and the ADA, accommodations are provided for students with documented disabilities. If you have a disability, please contact the Office of Disability Services as soon as possible. Their office is in UC 220 (978-934-4574, Disability@uml.edu). Documentation of disability is confidential. Requests for accommodation for religious reasons should be directed to Equal Opportunity and Outreach at 978-934-3565, Wannalancit Mills, Suite 301. \n",
    "\n",
    "**Counseling Services:** As part of the Wellness Center, Counseling Services at UMass Lowell provide mental health counseling, consultation and referrals to help students achieve personal and academic success. They also assist students in better understanding and coping with their feelings, relationships, and choices surrounding their academic success. [Visit](https://www.uml.edu/student-services/Counseling/)\n",
    "Veterans’ Services: UMass Lowell is committed to helping our military students take full advantage of all the educational benefits available through the federal and state governments. For complete information on the services and resources available please visit our [website](https://www.uml.edu/student-services/Veterans/).\n",
    "University Cancellation Information: If campus is closed (most likely for weather), visit the website for announcements relevant to the class."
   ]
  },
  {
   "cell_type": "code",
   "execution_count": null,
   "metadata": {},
   "outputs": [],
   "source": []
  }
 ],
 "metadata": {
  "kernelspec": {
   "display_name": "Python 3 (ipykernel)",
   "language": "python",
   "name": "python3"
  },
  "language_info": {
   "codemirror_mode": {
    "name": "ipython",
    "version": 3
   },
   "file_extension": ".py",
   "mimetype": "text/x-python",
   "name": "python",
   "nbconvert_exporter": "python",
   "pygments_lexer": "ipython3",
   "version": "3.9.12"
  },
  "latex_envs": {
   "LaTeX_envs_menu_present": true,
   "autoclose": false,
   "autocomplete": true,
   "bibliofile": "biblio.bib",
   "cite_by": "apalike",
   "current_citInitial": 1,
   "eqLabelWithNumbers": true,
   "eqNumInitial": 1,
   "hotkeys": {
    "equation": "Ctrl-E",
    "itemize": "Ctrl-I"
   },
   "labels_anchors": false,
   "latex_user_defs": false,
   "report_style_numbering": false,
   "user_envs_cfg": false
  },
  "toc": {
   "base_numbering": 1,
   "nav_menu": {},
   "number_sections": true,
   "sideBar": true,
   "skip_h1_title": false,
   "title_cell": "Table of Contents",
   "title_sidebar": "Contents",
   "toc_cell": false,
   "toc_position": {},
   "toc_section_display": true,
   "toc_window_display": false
  }
 },
 "nbformat": 4,
 "nbformat_minor": 2
}
