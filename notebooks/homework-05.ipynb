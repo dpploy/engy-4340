{
 "cells": [
  {
   "cell_type": "markdown",
   "metadata": {},
   "source": [
    "Engy-4340: Nuclear Reactor Theory Fall 2022 UMass Lowell; Prof. V. F. de Almeida **06Nov22**\n",
    "\n",
    "# Homework 05 (07Nov22)\n",
    "\n",
    "$  \n",
    "  \\newcommand{\\Amtrx}{\\boldsymbol{\\mathsf{A}}}\n",
    "  \\newcommand{\\Bmtrx}{\\boldsymbol{\\mathsf{B}}}\n",
    "  \\newcommand{\\Mmtrx}{\\boldsymbol{\\mathsf{M}}}\n",
    "  \\newcommand{\\Imtrx}{\\boldsymbol{\\mathsf{I}}}\n",
    "  \\newcommand{\\Pmtrx}{\\boldsymbol{\\mathsf{P}}}\n",
    "  \\newcommand{\\Lmtrx}{\\boldsymbol{\\mathsf{L}}}\n",
    "  \\newcommand{\\Umtrx}{\\boldsymbol{\\mathsf{U}}}\n",
    "  \\newcommand{\\Smtrx}{\\boldsymbol{\\mathsf{S}}}\n",
    "  \\newcommand{\\xvec}{\\boldsymbol{\\mathsf{x}}}\n",
    "  \\newcommand{\\avec}{\\boldsymbol{\\mathsf{a}}}\n",
    "  \\newcommand{\\bvec}{\\boldsymbol{\\mathsf{b}}}\n",
    "  \\newcommand{\\cvec}{\\boldsymbol{\\mathsf{c}}}\n",
    "  \\newcommand{\\rvec}{\\boldsymbol{\\mathsf{r}}}\n",
    "  \\newcommand{\\fvec}{\\boldsymbol{\\mathsf{f}}}\n",
    "  \\newcommand{\\mvec}{\\boldsymbol{\\mathsf{m}}}\n",
    "  \\newcommand{\\gvec}{\\boldsymbol{\\mathsf{g}}}\n",
    "  \\newcommand{\\zerovec}{\\boldsymbol{\\mathsf{0}}}\n",
    "  \\newcommand{\\norm}[1]{\\bigl\\lVert{#1}\\bigr\\rVert}\n",
    "  \\newcommand{\\transpose}[1]{{#1}^\\top}\n",
    "  \\DeclareMathOperator{\\rank}{rank}\n",
    "  \\newcommand{\\Reals}{\\mathbb{R}}\n",
    "  \\newcommand{\\thetavec}{\\boldsymbol{\\theta}}\n",
    "$"
   ]
  },
  {
   "cell_type": "markdown",
   "metadata": {},
   "source": [
    "### Name: `your name`"
   ]
  },
  {
   "cell_type": "markdown",
   "metadata": {},
   "source": [
    "### Rubric for each assignment: \n",
    "\n",
    "|       Context               |  Points |\n",
    "| -----------------------     | ------- |\n",
    "| Precision of the answer     |   80%   |\n",
    "| Answer Markdown readability |   10%   |\n",
    "| Code readability            |   10%   |"
   ]
  },
  {
   "cell_type": "markdown",
   "metadata": {},
   "source": [
    "### <font color=\"red\">Guidance:</font>\n",
    "\n",
    "+  <span style=\"color:red\">\n",
    "    This is an individual homework. \n",
    "   </span> \n",
    "+  <span style=\"color:red\">\n",
    "    Upload your answers in the Blackboard submission portal as: \n",
    "   </span> \n",
    "   \n",
    "   **lastname-firstname-homework-xx.pdf** or **lastname-firstname-homework-xx.ipynb**"
   ]
  },
  {
   "cell_type": "markdown",
   "metadata": {},
   "source": [
    "---\n",
    "## Table of Problems<a id=\"toa\"></a>\n",
    "* [Problem 1 (10 pts)](#a1) Natural urania decrement.\n",
    "* [Problem 2 (10 pts)](#a2) Water macroscopic cross section.\n",
    "* [Problem 3 (10 pts)](#a3) Resonance.\n",
    "* [Problem 4 (10 pts)](#a4) Iron resonance.\n",
    "* [Problem 5 (10 pts)](#a5) Oxygen resonance.\n",
    "* [Problem 6 (10 pts)](#a6) Collision with oxygen in water.\n",
    "* [Problem 7 (10 pts)](#a7) Head-on elastic scattering energy ratio.\n",
    "* [Problem 8 (10 pts)](#a8) Average fractional energy loss.\n",
    "* [Problem 9 (10 pts)](#a9) Lethargy.\n",
    "* [Problem 10 (10 pts)](#a10) Neutron slowing down decrement.\n",
    "---"
   ]
  },
  {
   "cell_type": "markdown",
   "metadata": {},
   "source": [
    "## <font color=\"blue\">[Problem 1 (10 pts)](#toa)</font><a id=\"a1\"></a>"
   ]
  },
  {
   "cell_type": "markdown",
   "metadata": {},
   "source": [
    "### <font color=\"blue\"> Calculate the neutron slowing down decrement for natural $\\text{UO}_2$. Does the presence of oxygen have a significant effect on the slowing down decrement?\n",
    " </font>"
   ]
  },
  {
   "cell_type": "markdown",
   "metadata": {},
   "source": [
    "<font color=\"blue\">**Answer:**</font>"
   ]
  },
  {
   "cell_type": "markdown",
   "metadata": {},
   "source": [
    "## <font color=\"blue\">[Problem 2 (10 pts)](#toa)</font><a id=\"a2\"></a>"
   ]
  },
  {
   "cell_type": "markdown",
   "metadata": {},
   "source": [
    "### <font color=\"blue\"> Calculate $\\Sigma_\\text{a}$ for: </font>\n",
    " 1. ### <font color=\"blue\"> Water of unit density at 25.3 meV </font>\n",
    " 1. ### <font color=\"blue\"> Water of 0.7 g/cc at 25.3 meV </font>\n",
    " 1. ### <font color=\"blue\"> Water of 0.7 g/cc at 25.3 1 eV </font>"
   ]
  },
  {
   "cell_type": "markdown",
   "metadata": {},
   "source": [
    "<font color=\"blue\">**Answer:**</font>"
   ]
  },
  {
   "cell_type": "markdown",
   "metadata": {},
   "source": [
    "## <font color=\"blue\">[Problem 3 (10 pts)](#toa)</font><a id=\"a3\"></a>"
   ]
  },
  {
   "cell_type": "markdown",
   "metadata": {},
   "source": [
    "### <font color=\"blue\"> The first resonance in the scattering cross section of the nuclide $^AZ$ occurs at 1.24 MeV. The separation energies of nuclides $^{A-1}Z$, $^AZ$, $^{A+1}Z$ are 7.00, 7.50, and 8.00 MeV, respectively. Which nucleus and at what energy above the ground state is the level that gives rise to this resonance?\n",
    "</font>"
   ]
  },
  {
   "cell_type": "markdown",
   "metadata": {},
   "source": [
    "<font color=\"blue\">**Answer:**</font>"
   ]
  },
  {
   "cell_type": "markdown",
   "metadata": {},
   "source": [
    "## <font color=\"blue\">[Problem 4 (10 pts)](#toa)</font><a id=\"a4\"></a>"
   ]
  },
  {
   "cell_type": "markdown",
   "metadata": {},
   "source": [
    "### <font color=\"blue\"> There is a prominent resonance in the total cross section of $^{56}$Fe at 646.4 keV. At what energy, measured from the ground state, is the energy level in $^{57}$Fe that corresponds to this resonance?\n",
    "</font>"
   ]
  },
  {
   "cell_type": "markdown",
   "metadata": {},
   "source": [
    "<font color=\"blue\">**Answer:**</font>"
   ]
  },
  {
   "cell_type": "markdown",
   "metadata": {},
   "source": [
    "## <font color=\"blue\">[Problem 5 (10 pts)](#toa)</font><a id=\"a5\"></a>"
   ]
  },
  {
   "cell_type": "markdown",
   "metadata": {},
   "source": [
    "### <font color=\"blue\"> The excited states of $^{17}$O occur at the following energies (in MeV) measured from the ground state: 0.871, 3.06, 3.85, 4.55, 5.08, 5.38, 5.70, 5.94, etc. At roughly what energies would resonances be expected to appear in the neutron cross section of $^{16}$O?\n",
    "</font>"
   ]
  },
  {
   "cell_type": "markdown",
   "metadata": {},
   "source": [
    "<font color=\"blue\">**Answer:**</font>"
   ]
  },
  {
   "cell_type": "markdown",
   "metadata": {},
   "source": [
    "## <font color=\"blue\">[Problem 6 (10 pts)](#toa)</font><a id=\"a6\"></a>"
   ]
  },
  {
   "cell_type": "markdown",
   "metadata": {},
   "source": [
    "### <font color=\"blue\"> A 2-MeV neutron traveling in water has a head-on collision with an $^{16}$O nucleus. </font>\n",
    " 1. ### <font color=\"blue\"> What are the energies of the neutron and nucleus after the collision? </font>\n",
    " 2. ### <font color=\"blue\"> Would you expect the water molecule involved in the collision to remain intact after the event? Why or why not? </font>"
   ]
  },
  {
   "cell_type": "markdown",
   "metadata": {},
   "source": [
    "<font color=\"blue\">**Answer:**</font>"
   ]
  },
  {
   "cell_type": "markdown",
   "metadata": {},
   "source": [
    "## <font color=\"blue\">[Problem 7 (10 pts)](#toa)</font><a id=\"a7\"></a>"
   ]
  },
  {
   "cell_type": "markdown",
   "metadata": {},
   "source": [
    "### <font color=\"blue\"> Derive the head-on elastic scattering energy ratio $\\frac{E'}{E} = \\bigl(\\frac{A-1}{A+1}\\bigr)^2$ covered in the classroom. </font>\n",
    "</font>"
   ]
  },
  {
   "cell_type": "markdown",
   "metadata": {},
   "source": [
    "<font color=\"blue\">**Answer:**</font>"
   ]
  },
  {
   "cell_type": "markdown",
   "metadata": {},
   "source": [
    "## <font color=\"blue\">[Problem 8 (10 pts)](#toa)</font><a id=\"a8\"></a>"
   ]
  },
  {
   "cell_type": "markdown",
   "metadata": {},
   "source": [
    "### <font color=\"blue\"> The average fractional energy loss of elastic scattering is defined as $\\frac{\\overline{E-E'}}{E}$. Show it is equal to $\\frac{(1-\\alpha)}{2}$ where $\\alpha$ is the head-on elastic scattering energy ratio (Problem 7). Compute and plot the result as a function of the mass number $A$ of the target nucleus. Evaluate the average fractional energy loss of elastic scattering for ordinary water.</font>\n",
    "</font>"
   ]
  },
  {
   "cell_type": "markdown",
   "metadata": {},
   "source": [
    "<font color=\"blue\">**Answer:**</font>"
   ]
  },
  {
   "cell_type": "markdown",
   "metadata": {},
   "source": [
    "## <font color=\"blue\">[Problem 9 (10 pts)](#toa)</font><a id=\"a9\"></a>"
   ]
  },
  {
   "cell_type": "markdown",
   "metadata": {},
   "source": [
    "### <font color=\"blue\"> A 1.5-MeV neutron in a heavy water reactor collides with an $^2$H nucleus. The lethargy is defined as $\\ln{\\frac{E}{E'}}$ where $E$ is the incoming neutron energy and $E'$ is the scattered neutron energy. Calculate the maximum and average values of lethargy in the collision. </font>"
   ]
  },
  {
   "cell_type": "markdown",
   "metadata": {},
   "source": [
    "<font color=\"blue\">**Answer:**</font>"
   ]
  },
  {
   "cell_type": "markdown",
   "metadata": {},
   "source": [
    "## <font color=\"blue\">[Problem 10 (10 pts)](#toa)</font><a id=\"a10\"></a>"
   ]
  },
  {
   "cell_type": "markdown",
   "metadata": {},
   "source": [
    "### <font color=\"blue\"> A power reactor is cooled by heavy water (D$_2$O) but a leak causes a 1 atom % contamination of the coolant with light water (H$_2$O). Determine the resulting percentage increase or decrease in the following characteristics of the coolant: </font>\n",
    " 1. ### <font color=\"blue\"> Slowing down decrement </font>\n",
    " 1. ### <font color=\"blue\"> Slowing down power </font>\n",
    " 1. ### <font color=\"blue\"> Slowing down ratio </font>\n",
    "</font>"
   ]
  },
  {
   "cell_type": "markdown",
   "metadata": {},
   "source": [
    "<font color=\"blue\">**Answer:**</font>"
   ]
  },
  {
   "cell_type": "code",
   "execution_count": null,
   "metadata": {},
   "outputs": [],
   "source": []
  }
 ],
 "metadata": {
  "kernelspec": {
   "display_name": "Python 3 (ipykernel)",
   "language": "python",
   "name": "python3"
  },
  "language_info": {
   "codemirror_mode": {
    "name": "ipython",
    "version": 3
   },
   "file_extension": ".py",
   "mimetype": "text/x-python",
   "name": "python",
   "nbconvert_exporter": "python",
   "pygments_lexer": "ipython3",
   "version": "3.10.8"
  },
  "latex_envs": {
   "LaTeX_envs_menu_present": true,
   "autoclose": false,
   "autocomplete": true,
   "bibliofile": "biblio.bib",
   "cite_by": "apalike",
   "current_citInitial": 1,
   "eqLabelWithNumbers": true,
   "eqNumInitial": 1,
   "hotkeys": {
    "equation": "Ctrl-E",
    "itemize": "Ctrl-I"
   },
   "labels_anchors": false,
   "latex_user_defs": false,
   "report_style_numbering": false,
   "user_envs_cfg": false
  }
 },
 "nbformat": 4,
 "nbformat_minor": 2
}
