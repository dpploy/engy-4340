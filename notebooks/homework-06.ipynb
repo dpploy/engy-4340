{
 "cells": [
  {
   "cell_type": "markdown",
   "metadata": {},
   "source": [
    "Engy-4340: Nuclear Reactor Theory Fall 2022 UMass Lowell; Prof. V. F. de Almeida **21Nov22**\n",
    "\n",
    "# Homework 06 (21Nov22)\n",
    "\n",
    "$  \n",
    "  \\newcommand{\\Amtrx}{\\boldsymbol{\\mathsf{A}}}\n",
    "  \\newcommand{\\Bmtrx}{\\boldsymbol{\\mathsf{B}}}\n",
    "  \\newcommand{\\Mmtrx}{\\boldsymbol{\\mathsf{M}}}\n",
    "  \\newcommand{\\Imtrx}{\\boldsymbol{\\mathsf{I}}}\n",
    "  \\newcommand{\\Pmtrx}{\\boldsymbol{\\mathsf{P}}}\n",
    "  \\newcommand{\\Lmtrx}{\\boldsymbol{\\mathsf{L}}}\n",
    "  \\newcommand{\\Umtrx}{\\boldsymbol{\\mathsf{U}}}\n",
    "  \\newcommand{\\Smtrx}{\\boldsymbol{\\mathsf{S}}}\n",
    "  \\newcommand{\\xvec}{\\boldsymbol{\\mathsf{x}}}\n",
    "  \\newcommand{\\avec}{\\boldsymbol{\\mathsf{a}}}\n",
    "  \\newcommand{\\bvec}{\\boldsymbol{\\mathsf{b}}}\n",
    "  \\newcommand{\\cvec}{\\boldsymbol{\\mathsf{c}}}\n",
    "  \\newcommand{\\rvec}{\\boldsymbol{\\mathsf{r}}}\n",
    "  \\newcommand{\\fvec}{\\boldsymbol{\\mathsf{f}}}\n",
    "  \\newcommand{\\mvec}{\\boldsymbol{\\mathsf{m}}}\n",
    "  \\newcommand{\\gvec}{\\boldsymbol{\\mathsf{g}}}\n",
    "  \\newcommand{\\zerovec}{\\boldsymbol{\\mathsf{0}}}\n",
    "  \\newcommand{\\norm}[1]{\\bigl\\lVert{#1}\\bigr\\rVert}\n",
    "  \\newcommand{\\transpose}[1]{{#1}^\\top}\n",
    "  \\DeclareMathOperator{\\rank}{rank}\n",
    "  \\newcommand{\\Reals}{\\mathbb{R}}\n",
    "  \\newcommand{\\thetavec}{\\boldsymbol{\\theta}}\n",
    "$"
   ]
  },
  {
   "cell_type": "markdown",
   "metadata": {},
   "source": [
    "### Name: `your name`"
   ]
  },
  {
   "cell_type": "markdown",
   "metadata": {},
   "source": [
    "### Rubric for each assignment: \n",
    "\n",
    "|       Context               |  Points |\n",
    "| -----------------------     | ------- |\n",
    "| Precision of the answer     |   80%   |\n",
    "| Answer Markdown readability |   10%   |\n",
    "| Code readability            |   10%   |"
   ]
  },
  {
   "cell_type": "markdown",
   "metadata": {},
   "source": [
    "### <font color=\"red\">Guidance:</font>\n",
    "\n",
    "+  <span style=\"color:red\">\n",
    "    This is an individual homework. \n",
    "   </span> \n",
    "+  <span style=\"color:red\">\n",
    "    Upload your answers in the Blackboard submission portal as: \n",
    "   </span> \n",
    "   \n",
    "   **lastname-firstname-homework-xx.pdf** or **lastname-firstname-homework-xx.ipynb**"
   ]
  },
  {
   "cell_type": "markdown",
   "metadata": {},
   "source": [
    "---\n",
    "## Table of Problems<a id=\"toa\"></a>\n",
    "* [Problem 1 (20 pts)](#a1) Neutron absorption.\n",
    "* [Problem 2 (20 pts)](#a2) Neutron slowing down.\n",
    "* [Problem 3 (20 pts)](#a3) More on neutron slowing down.\n",
    "* [Problem 4 (10 pts)](#a4) Resonance cross section origin.\n",
    "* [Problem 5 (10 pts)](#a5) Neutron energy range.\n",
    "* [Problem 6 (10 pts)](#a6) Neutron spectra.\n",
    "* [Problem 7 (10 pts)](#a7) Properties of neutron moderators.\n",
    "---"
   ]
  },
  {
   "cell_type": "markdown",
   "metadata": {},
   "source": [
    "## <font color=\"blue\">[Problem 1 (20 pts)](#toa)</font><a id=\"a1\"></a>"
   ]
  },
  {
   "cell_type": "markdown",
   "metadata": {},
   "source": [
    "### <font color=\"blue\"> A 5-cm thick layer of purely absorbing material is found to absorb 99.9% of a neutron beam. The material has a nuclide number density of $4\\times 10^{22}$ nuclei/cm$^3$. Calculate the following:\n",
    " </font>"
   ]
  },
  {
   "cell_type": "markdown",
   "metadata": {},
   "source": [
    "### <font color=\"blue\">[1.1)](#rubric)(5 pts) The macroscopic cross section.</font><a id=\"a11\"></a>"
   ]
  },
  {
   "cell_type": "markdown",
   "metadata": {},
   "source": [
    "<font color=\"blue\">**Answer:**</font>"
   ]
  },
  {
   "cell_type": "markdown",
   "metadata": {},
   "source": [
    "### <font color=\"blue\">[1.2)](#rubric)(5 pts) The mean free path. Explain the formula you used.</font><a id=\"a12\"></a>"
   ]
  },
  {
   "cell_type": "markdown",
   "metadata": {},
   "source": [
    "<font color=\"blue\">**Answer:**</font>"
   ]
  },
  {
   "cell_type": "markdown",
   "metadata": {},
   "source": [
    "### <font color=\"blue\">[1.3)](#rubric)(5 pts) The microscopic cross section.</font><a id=\"a12\"></a>"
   ]
  },
  {
   "cell_type": "markdown",
   "metadata": {},
   "source": [
    "<font color=\"blue\">**Answer:**</font>"
   ]
  },
  {
   "cell_type": "markdown",
   "metadata": {},
   "source": [
    "### <font color=\"blue\">[1.4)](#rubric)(5 pts) Is the cross section as big as a barn? Explain.</font><a id=\"a12\"></a>"
   ]
  },
  {
   "cell_type": "markdown",
   "metadata": {},
   "source": [
    "<font color=\"blue\">**Answer:**</font>"
   ]
  },
  {
   "cell_type": "markdown",
   "metadata": {},
   "source": [
    "## <font color=\"blue\">[Problem 2 (20 pts)](#toa)</font><a id=\"a2\"></a>"
   ]
  },
  {
   "cell_type": "markdown",
   "metadata": {},
   "source": [
    "### <font color=\"blue\"> What is the **minimum** number of elastic scattering collisions required to slow a neutron down from 1 MeV to 1 eV in the materials below.</font><br>\n",
    "Formulae: \n",
    " + Head-on energy loss ratio: $\\alpha = \\bigl(\\frac{A-1}{A+1}\\bigr)^2$\n",
    " + Slowing down decrement: $\\xi := \\overline{\\ln(E/E')} = \\int \\ln(E/E')\\,p(E\\rightarrow E')\\,dE'= 1 + \\frac{\\alpha}{1-\\alpha}\\,\\ln\\alpha$\n",
    " + Elastic scattered energy probability distribution function: $p(E\\rightarrow E') = \n",
    " \\begin{cases} \n",
    " \\frac{1}{(1-\\alpha)\\,E} & \\text{if} \\quad\\quad \\alpha E \\leq E' \\leq E \\\\ \n",
    " 0 & \\text{otherwise}\n",
    " \\end{cases}$"
   ]
  },
  {
   "cell_type": "markdown",
   "metadata": {},
   "source": [
    "### <font color=\"blue\">[2.1)](#rubric)(5 pts) Hydrogen.</font><a id=\"a21\"></a>"
   ]
  },
  {
   "cell_type": "markdown",
   "metadata": {},
   "source": [
    "<font color=\"blue\">**Answer:**</font>"
   ]
  },
  {
   "cell_type": "markdown",
   "metadata": {},
   "source": [
    "### <font color=\"blue\">[2.2)](#rubric)(5 pts) Deuterium.</font><a id=\"a22\"></a>"
   ]
  },
  {
   "cell_type": "markdown",
   "metadata": {},
   "source": [
    "<font color=\"blue\">**Answer:**</font>"
   ]
  },
  {
   "cell_type": "markdown",
   "metadata": {},
   "source": [
    "### <font color=\"blue\">[2.3)](#rubric)(5 pts) $^{12}$C.</font><a id=\"a23\"></a>"
   ]
  },
  {
   "cell_type": "markdown",
   "metadata": {},
   "source": [
    "<font color=\"blue\">**Answer:**</font>"
   ]
  },
  {
   "cell_type": "markdown",
   "metadata": {},
   "source": [
    "### <font color=\"blue\">[2.4)](#rubric)(5 pts) $^{238}$U.</font><a id=\"a24\"></a>"
   ]
  },
  {
   "cell_type": "markdown",
   "metadata": {},
   "source": [
    "<font color=\"blue\">**Answer:**</font>"
   ]
  },
  {
   "cell_type": "markdown",
   "metadata": {},
   "source": [
    "## <font color=\"blue\">[Problem 3 (20 pts)](#toa)</font><a id=\"a3\"></a>"
   ]
  },
  {
   "cell_type": "markdown",
   "metadata": {},
   "source": [
    "### <font color=\"blue\"> In contrast to Problem 3, assuming that any elastic collision in Problem 2 loses the average value, $\\xi$, repeat the calculation of the number of elastic collisions for the same materials and compare with the results in Problem 2.\n",
    " </font>"
   ]
  },
  {
   "cell_type": "markdown",
   "metadata": {},
   "source": [
    "### <font color=\"blue\">[3.1)](#rubric)(5 pts) Hydrogen.</font><a id=\"a31\"></a>"
   ]
  },
  {
   "cell_type": "markdown",
   "metadata": {},
   "source": [
    "<font color=\"blue\">**Answer:**</font>"
   ]
  },
  {
   "cell_type": "markdown",
   "metadata": {},
   "source": [
    "### <font color=\"blue\">[3.2)](#rubric)(5 pts) Deuterium.</font><a id=\"a32\"></a>"
   ]
  },
  {
   "cell_type": "markdown",
   "metadata": {},
   "source": [
    "<font color=\"blue\">**Answer:**</font>"
   ]
  },
  {
   "cell_type": "markdown",
   "metadata": {},
   "source": [
    "### <font color=\"blue\">[3.3)](#rubric)(5 pts) $^{12}$C.</font><a id=\"a33\"></a>"
   ]
  },
  {
   "cell_type": "markdown",
   "metadata": {},
   "source": [
    "<font color=\"blue\">**Answer:**</font>"
   ]
  },
  {
   "cell_type": "markdown",
   "metadata": {},
   "source": [
    "### <font color=\"blue\">[3.4)](#rubric)(5 pts) $^{238}$U.</font><a id=\"a34\"></a>"
   ]
  },
  {
   "cell_type": "markdown",
   "metadata": {},
   "source": [
    "<font color=\"blue\">**Answer:**</font>"
   ]
  },
  {
   "cell_type": "markdown",
   "metadata": {},
   "source": [
    "## <font color=\"blue\">[Problem 4 (10 pts)](#toa)</font><a id=\"a4\"></a>"
   ]
  },
  {
   "cell_type": "markdown",
   "metadata": {},
   "source": [
    "### <font color=\"blue\"> Explain the origin of resonance peaks in the scattering cross sections of heavy nuclides.\n",
    " </font>"
   ]
  },
  {
   "cell_type": "markdown",
   "metadata": {},
   "source": [
    "<font color=\"blue\">**Answer:**</font>"
   ]
  },
  {
   "cell_type": "markdown",
   "metadata": {},
   "source": [
    "## <font color=\"blue\">[Problem 5 (10 pts)](#toa)</font><a id=\"a5\"></a>"
   ]
  },
  {
   "cell_type": "markdown",
   "metadata": {},
   "source": [
    "### <font color=\"blue\"> What are the significant neutron energy ranges in nuclear reactors? Provide the bounds and names of the regions.\n",
    " </font>"
   ]
  },
  {
   "cell_type": "markdown",
   "metadata": {},
   "source": [
    "<font color=\"blue\">**Answer:**</font>"
   ]
  },
  {
   "cell_type": "markdown",
   "metadata": {},
   "source": [
    "## <font color=\"blue\">[Problem 6 (10 pts)](#toa)</font><a id=\"a6\"></a>"
   ]
  },
  {
   "cell_type": "markdown",
   "metadata": {},
   "source": [
    "### <font color=\"blue\"> Why all working nuclear reactors either use the thermal or fast neutron spectrum? What is the issue in between these spectra?\n",
    " </font>"
   ]
  },
  {
   "cell_type": "markdown",
   "metadata": {},
   "source": [
    "<font color=\"blue\">**Answer:**</font>"
   ]
  },
  {
   "cell_type": "markdown",
   "metadata": {},
   "source": [
    "## <font color=\"blue\">[Problem 7 (10 pts)](#toa)</font><a id=\"a7\"></a>"
   ]
  },
  {
   "cell_type": "markdown",
   "metadata": {},
   "source": [
    "### <font color=\"blue\"> What are the desired properties of a neutron moderator material? List three quantities used to assess the effectiveness of a moderator material and define these quantities?\n",
    " </font>"
   ]
  },
  {
   "cell_type": "markdown",
   "metadata": {},
   "source": [
    "<font color=\"blue\">**Answer:**</font>"
   ]
  }
 ],
 "metadata": {
  "kernelspec": {
   "display_name": "Python 3 (ipykernel)",
   "language": "python",
   "name": "python3"
  },
  "language_info": {
   "codemirror_mode": {
    "name": "ipython",
    "version": 3
   },
   "file_extension": ".py",
   "mimetype": "text/x-python",
   "name": "python",
   "nbconvert_exporter": "python",
   "pygments_lexer": "ipython3",
   "version": "3.10.8"
  },
  "latex_envs": {
   "LaTeX_envs_menu_present": true,
   "autoclose": false,
   "autocomplete": true,
   "bibliofile": "biblio.bib",
   "cite_by": "apalike",
   "current_citInitial": 1,
   "eqLabelWithNumbers": true,
   "eqNumInitial": 1,
   "hotkeys": {
    "equation": "Ctrl-E",
    "itemize": "Ctrl-I"
   },
   "labels_anchors": false,
   "latex_user_defs": false,
   "report_style_numbering": false,
   "user_envs_cfg": false
  }
 },
 "nbformat": 4,
 "nbformat_minor": 2
}
