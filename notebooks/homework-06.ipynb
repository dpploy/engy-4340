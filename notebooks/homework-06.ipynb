{
 "cells": [
  {
   "cell_type": "markdown",
   "metadata": {},
   "source": [
    "\n",
    "Engy-4340: Nuclear Reactor Theory Fall 2024 UMass Lowell; Prof. V. F. de Almeida **19Dec24**\n",
    "\n",
    "# Homework 06 (19Dec24)\n",
    "\n",
    "$  \n",
    "  \\newcommand{\\Amtrx}{\\boldsymbol{\\mathsf{A}}}\n",
    "  \\newcommand{\\Bmtrx}{\\boldsymbol{\\mathsf{B}}}\n",
    "  \\newcommand{\\Mmtrx}{\\boldsymbol{\\mathsf{M}}}\n",
    "  \\newcommand{\\Imtrx}{\\boldsymbol{\\mathsf{I}}}\n",
    "  \\newcommand{\\Pmtrx}{\\boldsymbol{\\mathsf{P}}}\n",
    "  \\newcommand{\\Lmtrx}{\\boldsymbol{\\mathsf{L}}}\n",
    "  \\newcommand{\\Umtrx}{\\boldsymbol{\\mathsf{U}}}\n",
    "  \\newcommand{\\Smtrx}{\\boldsymbol{\\mathsf{S}}}\n",
    "  \\newcommand{\\xvec}{\\boldsymbol{\\mathsf{x}}}\n",
    "  \\newcommand{\\avec}{\\boldsymbol{\\mathsf{a}}}\n",
    "  \\newcommand{\\bvec}{\\boldsymbol{\\mathsf{b}}}\n",
    "  \\newcommand{\\cvec}{\\boldsymbol{\\mathsf{c}}}\n",
    "  \\newcommand{\\rvec}{\\boldsymbol{\\mathsf{r}}}\n",
    "  \\newcommand{\\fvec}{\\boldsymbol{\\mathsf{f}}}\n",
    "  \\newcommand{\\mvec}{\\boldsymbol{\\mathsf{m}}}\n",
    "  \\newcommand{\\gvec}{\\boldsymbol{\\mathsf{g}}}\n",
    "  \\newcommand{\\zerovec}{\\boldsymbol{\\mathsf{0}}}\n",
    "  \\newcommand{\\norm}[1]{\\bigl\\lVert{#1}\\bigr\\rVert}\n",
    "  \\newcommand{\\transpose}[1]{{#1}^\\top}\n",
    "  \\DeclareMathOperator{\\rank}{rank}\n",
    "  \\newcommand{\\Reals}{\\mathbb{R}}\n",
    "  \\newcommand{\\thetavec}{\\boldsymbol{\\theta}}\n",
    "$"
   ]
  },
  {
   "cell_type": "markdown",
   "metadata": {},
   "source": [
    "### Name: `your name`"
   ]
  },
  {
   "cell_type": "markdown",
   "metadata": {},
   "source": [
    "### <font color=\"red\">Guidance:</font>\n",
    "\n",
    "+  <span style=\"color:red\">\n",
    "    Upload your answers in the Blackboard submission portal as: \n",
    "   </span> \n",
    "   \n",
    "   **lastname-firstname-homework-xx.pdf** or **lastname-firstname-homework-xx.ipynb**"
   ]
  },
  {
   "cell_type": "markdown",
   "metadata": {},
   "source": [
    "---\n",
    "## Table of Problems<a id=\"toa\"></a>\n",
    "* [Problem 1 (100 pts)](#a1) Chain fission reactor neutron population model\n",
    "  - [1.1)](#a11)(25 pts) Point reactor kinetic equation assumptions and quantities.\n",
    "  - [1.2)](#a12)(25 pts) Introduce delayed neutrons.\n",
    "  - [1.3)](#a13)(25 pts) Interpretation of kinetic equations with delayed neutrons.\n",
    "  - [1.4)](#a14)(25 pts) Reactivity form of equations.\n",
    "---"
   ]
  },
  {
   "cell_type": "markdown",
   "metadata": {},
   "source": [
    "## <span style=\"color:blue\">[Problem 1 (100 pts)](#toa)</span><a id=\"a1\"></a>"
   ]
  },
  {
   "cell_type": "markdown",
   "metadata": {},
   "source": [
    "### <font color=\"blue\"> The single-point reactor kinetic equation for neutron balance covered in class not including delayed neutrons was: \\begin{equation*}\n",
    "\\frac{dn}{dt} = -\\Gamma\\,\\Sigma_a\\,v\\,n + \\dot{S}(t) + \\nu_\\text{p}\\Sigma_\\text{f}\\,v\\,n - \\Sigma_a\\,v\\,n.\n",
    "\\end{equation*}</font>"
   ]
  },
  {
   "cell_type": "markdown",
   "metadata": {},
   "source": [
    "### <font color=\"blue\">[1.1)](#toa)(25 pts) State the assmuptions that led to this equation and identify each one of the terms including the variables and their units. Be comprehensive.</font><a id=\"a11\"></a>"
   ]
  },
  {
   "cell_type": "markdown",
   "metadata": {},
   "source": [
    "<font color=\"blue\">**Answer:**</font>"
   ]
  },
  {
   "cell_type": "markdown",
   "metadata": {},
   "source": [
    "### <font color=\"blue\">[1.2)](#toa)(25 pts) As done in class, introduce delayed neutrons in the above equation and arrive at the equations \\begin{align*} \\frac{dn}{dt} &= \\dot{S}(t) + \\frac{\\bigl((1-\\beta)k-1\\bigr)}{\\ell}n + \\sum\\limits_{i=1}^{6}\\lambda_i\\,c_i, \\\\\n",
    "\\frac{dc_i}{dt} &= \\beta_i\\frac{k}{\\ell}\\,n - \\lambda_i\\,c_i \\qquad i=1\\ldots,6, \\end{align*} demonstrating the steps taken using the definition of $k$ and $\\ell$ given in class.</font><a id=\"a12\"></a>"
   ]
  },
  {
   "cell_type": "markdown",
   "metadata": {
    "ExecuteTime": {
     "end_time": "2022-10-25T02:55:53.723831Z",
     "start_time": "2022-10-25T02:55:53.717834Z"
    }
   },
   "source": [
    "<font color=\"blue\">**Answer:**</font>"
   ]
  },
  {
   "cell_type": "markdown",
   "metadata": {
    "ExecuteTime": {
     "end_time": "2022-10-25T02:55:54.039907Z",
     "start_time": "2022-10-25T02:55:54.035806Z"
    }
   },
   "source": [
    "### <font color=\"blue\">[1.3)](#toa)(25 pts) Provide a description of each term in these equations as they relate to the original balance equations they originated from.</font><a id=\"a13\"></a>"
   ]
  },
  {
   "cell_type": "markdown",
   "metadata": {
    "ExecuteTime": {
     "end_time": "2022-10-25T02:55:54.467221Z",
     "start_time": "2022-10-25T02:55:54.461587Z"
    }
   },
   "source": [
    "<font color=\"blue\">**Answer:**</font>"
   ]
  },
  {
   "cell_type": "markdown",
   "metadata": {},
   "source": [
    "### <font color=\"blue\">[1.4)](#toa)(25 pts) Defining the reactivity $\\rho=\\frac{k}{k-1}$ and the neutron generation time $\\Lambda = \\frac{\\ell}{k}$ show that the reactivity form of the equations above is \\begin{align*} \\frac{dn}{dt} &= \\dot{S}(t) + \\frac{\\rho-\\beta}{\\Lambda}n + \\sum\\limits_{i=1}^{6}\\lambda_i\\,c_i, \\\\\n",
    "\\frac{dc_i}{dt} &= \\frac{\\beta_i}{\\Lambda}\\,n - \\lambda_i\\,c_i \\qquad i=1\\ldots,6, \\end{align*} and comment on the revealing fact of the effect of delayed neutrons in controlling a reactor. What value of $\\rho$ is dangerous? </font><a id=\"a14\"></a>"
   ]
  },
  {
   "cell_type": "markdown",
   "metadata": {},
   "source": [
    "<font color=\"blue\">**Answer:**</font>"
   ]
  }
 ],
 "metadata": {
  "kernelspec": {
   "display_name": "Python 3 (ipykernel)",
   "language": "python",
   "name": "python3"
  },
  "language_info": {
   "codemirror_mode": {
    "name": "ipython",
    "version": 3
   },
   "file_extension": ".py",
   "mimetype": "text/x-python",
   "name": "python",
   "nbconvert_exporter": "python",
   "pygments_lexer": "ipython3",
   "version": "3.12.8"
  },
  "latex_envs": {
   "LaTeX_envs_menu_present": true,
   "autoclose": false,
   "autocomplete": true,
   "bibliofile": "biblio.bib",
   "cite_by": "apalike",
   "current_citInitial": 1,
   "eqLabelWithNumbers": true,
   "eqNumInitial": 1,
   "hotkeys": {
    "equation": "Ctrl-E",
    "itemize": "Ctrl-I"
   },
   "labels_anchors": false,
   "latex_user_defs": false,
   "report_style_numbering": false,
   "user_envs_cfg": false
  }
 },
 "nbformat": 4,
 "nbformat_minor": 4
}
