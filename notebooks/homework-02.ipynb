{
 "cells": [
  {
   "cell_type": "markdown",
   "metadata": {},
   "source": [
    "Engy-4340: Nuclear Reactor Theory Fall 2023 UMass Lowell; Prof. V. F. de Almeida **24Sep23**\n",
    "\n",
    "# Homework 02 (25Sep23)\n",
    "\n",
    "$  \n",
    "  \\newcommand{\\Amtrx}{\\boldsymbol{\\mathsf{A}}}\n",
    "  \\newcommand{\\Bmtrx}{\\boldsymbol{\\mathsf{B}}}\n",
    "  \\newcommand{\\Mmtrx}{\\boldsymbol{\\mathsf{M}}}\n",
    "  \\newcommand{\\Imtrx}{\\boldsymbol{\\mathsf{I}}}\n",
    "  \\newcommand{\\Pmtrx}{\\boldsymbol{\\mathsf{P}}}\n",
    "  \\newcommand{\\Lmtrx}{\\boldsymbol{\\mathsf{L}}}\n",
    "  \\newcommand{\\Umtrx}{\\boldsymbol{\\mathsf{U}}}\n",
    "  \\newcommand{\\Smtrx}{\\boldsymbol{\\mathsf{S}}}\n",
    "  \\newcommand{\\xvec}{\\boldsymbol{\\mathsf{x}}}\n",
    "  \\newcommand{\\avec}{\\boldsymbol{\\mathsf{a}}}\n",
    "  \\newcommand{\\bvec}{\\boldsymbol{\\mathsf{b}}}\n",
    "  \\newcommand{\\cvec}{\\boldsymbol{\\mathsf{c}}}\n",
    "  \\newcommand{\\rvec}{\\boldsymbol{\\mathsf{r}}}\n",
    "  \\newcommand{\\fvec}{\\boldsymbol{\\mathsf{f}}}\n",
    "  \\newcommand{\\mvec}{\\boldsymbol{\\mathsf{m}}}\n",
    "  \\newcommand{\\gvec}{\\boldsymbol{\\mathsf{g}}}\n",
    "  \\newcommand{\\zerovec}{\\boldsymbol{\\mathsf{0}}}\n",
    "  \\newcommand{\\norm}[1]{\\bigl\\lVert{#1}\\bigr\\rVert}\n",
    "  \\newcommand{\\transpose}[1]{{#1}^\\top}\n",
    "  \\DeclareMathOperator{\\rank}{rank}\n",
    "  \\newcommand{\\Reals}{\\mathbb{R}}\n",
    "  \\newcommand{\\thetavec}{\\boldsymbol{\\theta}}\n",
    "$"
   ]
  },
  {
   "cell_type": "markdown",
   "metadata": {},
   "source": [
    "### Name: `your name`"
   ]
  },
  {
   "cell_type": "markdown",
   "metadata": {},
   "source": [
    "### <font color=\"red\">Guidance:</font>\n",
    "\n",
    "+  <span style=\"color:red\">\n",
    "    Upload your answers in the Blackboard submission portal as: \n",
    "   </span> \n",
    "   \n",
    "   **lastname-firstname-homework-xx.pdf** or **lastname-firstname-homework-xx.ipynb**"
   ]
  },
  {
   "cell_type": "markdown",
   "metadata": {},
   "source": [
    "---\n",
    "## Table of Problems<a id=\"toa\"></a>\n",
    "* [Problem 1 (10 pts)](#a1) Atom density formula proof.\n",
    "* [Problem 2 (10 pts)](#a2) D-He-3 fusion.\n",
    "  - [2.1)](#a21)(5 pts) Q value.\n",
    "  - [2.2)](#a22)(3 pts) Compare to D-T?\n",
    "  - [2.3)](#a23)(2 pts) He-3 production.\n",
    "* [Problem 3 (35 pts)](#a3) UMLRR Co-60 sphere source.\n",
    "  - [3.1)](#a31)(5 pts) Activity.\n",
    "  - [3.2)](#a32)(2 pts) Mass.\n",
    "  - [3.3)](#a33)(5 pts) Final mass.\n",
    "  - [3.4)](#a34)(3 pts) Mass loss.\n",
    "  - [3.5)](#a35)(10 pts) Alternative mass loss.\n",
    "  - [3.6)](#a36)(10 pts) Electricity conversion.\n",
    "* [Problem 4 (35 pts)](#a4) Production of radionuclide.\n",
    "  - [4.1)](#a41)(5 pts) Reaction.\n",
    "  - [4.2)](#a42)(10 pts) Mathematical model.\n",
    "  - [4.3)](#a43)(20 pts) Maximum activity.\n",
    "  - [4.4)](#a44)(10 pts) Maximum flux.\n",
    "* [Problem 5 (10 pts)](#a5) Heat decay for 1 GW(t) operation in 1 year.\n",
    "  - [5.1)](#a51)(2 pts) 1 day.\n",
    "  - [5.2)](#a52)(2 pts) 1 month.\n",
    "  - [5.3)](#a53)(2 pts) 1 year.\n",
    "  - [5.4)](#a54)(4 pts) Repeat for 6-month operation.\n",
    "---"
   ]
  },
  {
   "cell_type": "markdown",
   "metadata": {},
   "source": [
    "## <span style=\"color:blue\">[Problem 1 (10 pts)](#toa)</span><a id=\"a1\"></a>"
   ]
  },
  {
   "cell_type": "markdown",
   "metadata": {},
   "source": [
    "### <font color=\"blue\"> In Problem 1 of Homework 1, you used a formula to calculate the atom density of U-235. State the formula and prove it mathematically. </font>"
   ]
  },
  {
   "cell_type": "markdown",
   "metadata": {},
   "source": [
    "## <span style=\"color:blue\">[Problem 2 (10 pts)](#toa)</span><a id=\"a2\"></a>"
   ]
  },
  {
   "cell_type": "markdown",
   "metadata": {},
   "source": [
    "### <font color=\"blue\">[2.1)](#toa)(5 pts) A proposed fusion reaction is as follows: $^2\\text{H} +\\, ^3\\text{He} \\rightarrow\\, ^4\\text{He} +\\, _1^1\\text{p}$. Calculate the $Q$ value of the reaction and the partition of energy of the products.</font><a id=\"a21\"></a>"
   ]
  },
  {
   "cell_type": "markdown",
   "metadata": {},
   "source": [
    "<font color=\"blue\">**Answer:**</font>"
   ]
  },
  {
   "cell_type": "markdown",
   "metadata": {},
   "source": [
    "### <font color=\"blue\">[2.2)](#toa)(3 pts) Is this reaction a better proposition than the D-T reaction? Explain why or why not.</font><a id=\"a22\"></a>"
   ]
  },
  {
   "cell_type": "markdown",
   "metadata": {},
   "source": [
    "<font color=\"blue\">**Explanation:**</font>"
   ]
  },
  {
   "cell_type": "markdown",
   "metadata": {},
   "source": [
    "### <font color=\"blue\">[2.3)](#toa)(2 pts) How can $^3\\text{He}$ be produced?</font><a id=\"a23\"></a>"
   ]
  },
  {
   "cell_type": "markdown",
   "metadata": {},
   "source": [
    "<font color=\"blue\">**Answer:**</font>"
   ]
  },
  {
   "cell_type": "markdown",
   "metadata": {},
   "source": [
    "## <font color=\"blue\">[Problem 3 (35 pts)](#toa)</font><a id=\"a3\"></a>"
   ]
  },
  {
   "cell_type": "markdown",
   "metadata": {},
   "source": [
    "### <font color=\"blue\">The UMLRR advertised a $^{60}\\text{Co}$ sphere with activity $A=100\\, \\text{kCi}$.</font>"
   ]
  },
  {
   "cell_type": "markdown",
   "metadata": {},
   "source": [
    "### <font color=\"blue\">[3.1)](#toa)(5 pts)  Does the activity stay the same with time? If not, what is the value in 1 year?</font><a id=\"a31\"></a>"
   ]
  },
  {
   "cell_type": "markdown",
   "metadata": {},
   "source": [
    "<font color=\"blue\">**Answer:**</font>"
   ]
  },
  {
   "cell_type": "markdown",
   "metadata": {},
   "source": [
    "### <font color=\"blue\">[3.2)](#toa)(2 pts) Is the mass of the sphere after 1 year more than the initial mass, less or the same? Why?</font><a id=\"a32\"></a>"
   ]
  },
  {
   "cell_type": "markdown",
   "metadata": {},
   "source": [
    "<font color=\"blue\">**Answer:**</font>"
   ]
  },
  {
   "cell_type": "markdown",
   "metadata": {},
   "source": [
    "### <font color=\"blue\">[3.3)](#toa)(5 pts) Calculate the initial mass of the sphere and final mass after 1 year.</font><a id=\"a33\"></a>"
   ]
  },
  {
   "cell_type": "markdown",
   "metadata": {},
   "source": [
    "<font color=\"blue\">**Answer:**</font>"
   ]
  },
  {
   "cell_type": "markdown",
   "metadata": {},
   "source": [
    "### <font color=\"blue\">[3.4)](#toa)(3 pts) Calculate the mass loss.</font><a id=\"a34\"></a>"
   ]
  },
  {
   "cell_type": "markdown",
   "metadata": {},
   "source": [
    "<font color=\"blue\">**Answer:**</font>"
   ]
  },
  {
   "cell_type": "markdown",
   "metadata": {},
   "source": [
    "### <font color=\"blue\">[3.5)](#toa)(10 pts) Find an alternative way to calculate the mass loss and compare with 3.4).</font><a id=\"a35\"></a>"
   ]
  },
  {
   "cell_type": "markdown",
   "metadata": {},
   "source": [
    "<font color=\"blue\">**Answer:**</font>"
   ]
  },
  {
   "cell_type": "markdown",
   "metadata": {},
   "source": [
    "### <font color=\"blue\">[3.6)](#toa)(10 pts) If the energy emitted in one year by the $^{60}\\text{Co}$ source could be converted in electricity, how long a typical residence in Massachussets could be powered for in 2023? (assume a conversion efficiency of 20%).</font><a id=\"a36\"></a>"
   ]
  },
  {
   "cell_type": "markdown",
   "metadata": {},
   "source": [
    "<font color=\"blue\">**Answer:**</font>"
   ]
  },
  {
   "cell_type": "markdown",
   "metadata": {},
   "source": [
    "## <font color=\"blue\">[Problem 4 (35 pts)](#toa)</font><a id=\"a4\"></a>"
   ]
  },
  {
   "cell_type": "markdown",
   "metadata": {},
   "source": [
    "### <font color=\"blue\"> A stable nuclide $X$ is reacted with particle $n$ (*e.g.* a neutron) to give a radionuclide $Y$ with radioactive decay constant $\\lambda_Y$. Denote $c_{X0}$ as the  concentration of $X$ when the reaction starts, assume there is no $Y$ when the reaction starts, and that Y does not react with the particle $n$. It is of practical interest to know the maximum activity of $Y$ and at what time the maximum is reached. Please address the sub-items below. </font>"
   ]
  },
  {
   "cell_type": "markdown",
   "metadata": {},
   "source": [
    "### <font color=\"blue\">[4.1)](#toa)(5 pts) Write the reaction mechanism.</font>\n",
    "<a id=\"a41\"></a>"
   ]
  },
  {
   "cell_type": "markdown",
   "metadata": {},
   "source": [
    "<font color=\"blue\">**Answer:**</font>"
   ]
  },
  {
   "cell_type": "markdown",
   "metadata": {},
   "source": [
    "### <font color=\"blue\">[4.2)](#toa)(10 pts) Setup the mathematical model and state your assumptions.</font>\n",
    "<a id=\"a42\"></a>"
   ]
  },
  {
   "cell_type": "markdown",
   "metadata": {},
   "source": [
    "<font color=\"blue\">**Answer:**</font>"
   ]
  },
  {
   "cell_type": "markdown",
   "metadata": {},
   "source": [
    "### <font color=\"blue\">[4.3)](#toa)(20 pts) Calculate the maximum activity of $Y$ and when it occurs relative to the beginning of the reaction.</font>\n",
    "<a id=\"a43\"></a>"
   ]
  },
  {
   "cell_type": "markdown",
   "metadata": {},
   "source": [
    "<font color=\"blue\">**Answer:**</font>"
   ]
  },
  {
   "cell_type": "markdown",
   "metadata": {},
   "source": [
    "### <font color=\"blue\">[4.4)](#toa)(10 pts) Often times when designing the irradiation apparatus for the reaction in Problem 4.1), the particle $n$ spatial flux magnitude is wanted for a given production activity maximum $A_{Y,\\text{max}}$. Derive the equation needed to find this flux value and explain how to solve it.</font>\n",
    "<a id=\"a44\"></a>"
   ]
  },
  {
   "cell_type": "markdown",
   "metadata": {},
   "source": [
    "<font color=\"blue\">**Answer:**</font>"
   ]
  },
  {
   "cell_type": "markdown",
   "metadata": {},
   "source": [
    "## <font color=\"blue\">[Problem 5 (10 pts)](#toa)</font><a id=\"a5\"></a>"
   ]
  },
  {
   "cell_type": "markdown",
   "metadata": {},
   "source": [
    "### <font color=\"blue\"> A nuclear fission reactor operates at a power of 1.5 GW(t) for 1 year. Calculate the heat decay power: </font>"
   ]
  },
  {
   "cell_type": "markdown",
   "metadata": {},
   "source": [
    "### <font color=\"blue\">[5.1)](#toa)(2 pts) 1 day after shutdown.</font>\n",
    "<a id=\"a51\"></a>"
   ]
  },
  {
   "cell_type": "markdown",
   "metadata": {},
   "source": [
    "<font color=\"blue\">**Answer:**</font>"
   ]
  },
  {
   "cell_type": "markdown",
   "metadata": {},
   "source": [
    "### <font color=\"blue\">[5.2)](#toa)(2 pts) 1 month after shutdown.</font>\n",
    "<a id=\"a52\"></a>"
   ]
  },
  {
   "cell_type": "markdown",
   "metadata": {},
   "source": [
    "<font color=\"blue\">**Answer:**</font>"
   ]
  },
  {
   "cell_type": "markdown",
   "metadata": {},
   "source": [
    "### <font color=\"blue\">[5.3)](#toa)(2 pts) 1 year after shutdown.</font>\n",
    "<a id=\"a53\"></a>"
   ]
  },
  {
   "cell_type": "markdown",
   "metadata": {},
   "source": [
    "<font color=\"blue\">**Answer:**</font>"
   ]
  },
  {
   "cell_type": "markdown",
   "metadata": {},
   "source": [
    "### <font color=\"blue\">[5.4)](#toa)(4 pts) Repeat the above for 6 months of operation and compare results.</font>\n",
    "<a id=\"a54\"></a>"
   ]
  },
  {
   "cell_type": "markdown",
   "metadata": {},
   "source": [
    "<font color=\"blue\">**Answer:**</font>"
   ]
  }
 ],
 "metadata": {
  "kernelspec": {
   "display_name": "Python 3 (ipykernel)",
   "language": "python",
   "name": "python3"
  },
  "language_info": {
   "codemirror_mode": {
    "name": "ipython",
    "version": 3
   },
   "file_extension": ".py",
   "mimetype": "text/x-python",
   "name": "python",
   "nbconvert_exporter": "python",
   "pygments_lexer": "ipython3",
   "version": "3.11.5"
  },
  "latex_envs": {
   "LaTeX_envs_menu_present": true,
   "autoclose": false,
   "autocomplete": true,
   "bibliofile": "biblio.bib",
   "cite_by": "apalike",
   "current_citInitial": 1,
   "eqLabelWithNumbers": true,
   "eqNumInitial": 1,
   "hotkeys": {
    "equation": "Ctrl-E",
    "itemize": "Ctrl-I"
   },
   "labels_anchors": false,
   "latex_user_defs": false,
   "report_style_numbering": false,
   "user_envs_cfg": false
  }
 },
 "nbformat": 4,
 "nbformat_minor": 2
}
