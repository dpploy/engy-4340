{
 "cells": [
  {
   "cell_type": "markdown",
   "metadata": {},
   "source": [
    "Engy-4340: Nuclear Reactor Theory Fall 2022 UMass Lowell; Prof. V. F. de Almeida **25Sep22**\n",
    "\n",
    "# Homework 02 (26Sep22)\n",
    "\n",
    "$  \n",
    "  \\newcommand{\\Amtrx}{\\boldsymbol{\\mathsf{A}}}\n",
    "  \\newcommand{\\Bmtrx}{\\boldsymbol{\\mathsf{B}}}\n",
    "  \\newcommand{\\Mmtrx}{\\boldsymbol{\\mathsf{M}}}\n",
    "  \\newcommand{\\Imtrx}{\\boldsymbol{\\mathsf{I}}}\n",
    "  \\newcommand{\\Pmtrx}{\\boldsymbol{\\mathsf{P}}}\n",
    "  \\newcommand{\\Lmtrx}{\\boldsymbol{\\mathsf{L}}}\n",
    "  \\newcommand{\\Umtrx}{\\boldsymbol{\\mathsf{U}}}\n",
    "  \\newcommand{\\Smtrx}{\\boldsymbol{\\mathsf{S}}}\n",
    "  \\newcommand{\\xvec}{\\boldsymbol{\\mathsf{x}}}\n",
    "  \\newcommand{\\avec}{\\boldsymbol{\\mathsf{a}}}\n",
    "  \\newcommand{\\bvec}{\\boldsymbol{\\mathsf{b}}}\n",
    "  \\newcommand{\\cvec}{\\boldsymbol{\\mathsf{c}}}\n",
    "  \\newcommand{\\rvec}{\\boldsymbol{\\mathsf{r}}}\n",
    "  \\newcommand{\\fvec}{\\boldsymbol{\\mathsf{f}}}\n",
    "  \\newcommand{\\mvec}{\\boldsymbol{\\mathsf{m}}}\n",
    "  \\newcommand{\\gvec}{\\boldsymbol{\\mathsf{g}}}\n",
    "  \\newcommand{\\zerovec}{\\boldsymbol{\\mathsf{0}}}\n",
    "  \\newcommand{\\norm}[1]{\\bigl\\lVert{#1}\\bigr\\rVert}\n",
    "  \\newcommand{\\transpose}[1]{{#1}^\\top}\n",
    "  \\DeclareMathOperator{\\rank}{rank}\n",
    "  \\newcommand{\\Reals}{\\mathbb{R}}\n",
    "  \\newcommand{\\thetavec}{\\boldsymbol{\\theta}}\n",
    "$"
   ]
  },
  {
   "cell_type": "markdown",
   "metadata": {},
   "source": [
    "### Name: `your name`"
   ]
  },
  {
   "cell_type": "markdown",
   "metadata": {},
   "source": [
    "### Rubric for each assignment: \n",
    "\n",
    "|       Context               |  Points |\n",
    "| -----------------------     | ------- |\n",
    "| Precision of the answer     |   80%   |\n",
    "| Answer Markdown readability |   10%   |\n",
    "| Code readability            |   10%   |"
   ]
  },
  {
   "cell_type": "markdown",
   "metadata": {},
   "source": [
    "### <font color=\"red\">Guidance:</font>\n",
    "\n",
    "+  <span style=\"color:red\">\n",
    "    Upload your answers in the Blackboard submission portal as: \n",
    "   </span> \n",
    "   \n",
    "   **lastname-firstname-labwork-xx.pdf** or **lastname-firstname-labwork-xx.ipynb**"
   ]
  },
  {
   "cell_type": "markdown",
   "metadata": {},
   "source": [
    "---\n",
    "## Table of Problems<a id=\"toa\"></a>\n",
    "* [Problem 1 (20 pts)](#a1) D-He-3 fusion.\n",
    " - [1.1)](#a11)(10 pts) Q value.\n",
    " - [1.2)](#a12)(5 pts) Compare to D-T?\n",
    " - [1.3)](#a13)(5 pts) He-3 production.\n",
    "* [Problem 2 (35 pts)](#a2) UMLRR Co-60 sphere source.\n",
    " - [2.1)](#a21)(5 pts) Activity.\n",
    " - [2.2)](#a22)(2 pts) Mass.\n",
    " - [2.3)](#a23)(5 pts) Final mass.\n",
    " - [2.4)](#a24)(3 pts) Mass loss.\n",
    " - [2.5)](#a25)(10 pts) Alternative mass loss.\n",
    " - [2.6)](#a26)(10 pts) Electricity conversion.\n",
    "* [Problem 3 (45 pts)](#a3) Production of radionuclide.\n",
    " - [3.1)](#a31)(5 pts) Reaction.\n",
    " - [3.2)](#a32)(10 pts) Mathematical model.\n",
    " - [3.3)](#a33)(20 pts) Maximum activity.\n",
    " - [3.4)](#a34)(10 pts) Maximum flux.\n",
    "---"
   ]
  },
  {
   "cell_type": "markdown",
   "metadata": {},
   "source": [
    "## <span style=\"color:blue\">[Problem 1 (20 pts)](#toa)</span><a id=\"a1\"></a>"
   ]
  },
  {
   "cell_type": "markdown",
   "metadata": {},
   "source": [
    "### <font color=\"blue\">[1.1)](#toa)(10 pts) A proposed fusion reaction is as follows: $^2\\text{H} +\\, ^3\\text{He} \\rightarrow\\, ^4\\text{He} +\\, _1^1\\text{p}$. Calculate the $Q$ value of the reaction and the partition of energy of the products.</font><a id=\"a11\"></a>"
   ]
  },
  {
   "cell_type": "markdown",
   "metadata": {},
   "source": [
    "<font color=\"blue\">**Answer:**</font>"
   ]
  },
  {
   "cell_type": "markdown",
   "metadata": {},
   "source": [
    "### <font color=\"blue\">[1.2)](#toa)(5 pts) Is this reaction a better proposition than the D-T reaction? Explain why or why not.</font><a id=\"a12\"></a>"
   ]
  },
  {
   "cell_type": "markdown",
   "metadata": {},
   "source": [
    "<font color=\"blue\">**Explanation:**</font>"
   ]
  },
  {
   "cell_type": "markdown",
   "metadata": {},
   "source": [
    "### <font color=\"blue\">[1.3)](#toa)(5 pts) How can $^3\\text{He}$ be produced?</font><a id=\"a13\"></a>"
   ]
  },
  {
   "cell_type": "markdown",
   "metadata": {},
   "source": [
    "<font color=\"blue\">**Answer:**</font>"
   ]
  },
  {
   "cell_type": "markdown",
   "metadata": {},
   "source": [
    "## <font color=\"blue\">[Problem 2 (35 pts)](#toa)</font><a id=\"a2\"></a>"
   ]
  },
  {
   "cell_type": "markdown",
   "metadata": {},
   "source": [
    "### <font color=\"blue\">The UMLRR advertised a $^{60}\\text{Co}$ sphere with activity $A=100\\, \\text{kCi}$.</font>"
   ]
  },
  {
   "cell_type": "markdown",
   "metadata": {},
   "source": [
    "### <font color=\"blue\">[2.1)](#toa)(5 pts)  Does the activity stay the same with time? If not, what is the value in 1 year?</font><a id=\"a21\"></a>"
   ]
  },
  {
   "cell_type": "markdown",
   "metadata": {},
   "source": [
    "<font color=\"blue\">**Answer:**</font>"
   ]
  },
  {
   "cell_type": "markdown",
   "metadata": {},
   "source": [
    "### <font color=\"blue\">[2.2)](#toa)(2 pts) Is the mass of the sphere after 1 year more than the initial mass, less or the same? Why?</font><a id=\"a22\"></a>"
   ]
  },
  {
   "cell_type": "markdown",
   "metadata": {},
   "source": [
    "<font color=\"blue\">**Answer:**</font>"
   ]
  },
  {
   "cell_type": "markdown",
   "metadata": {},
   "source": [
    "### <font color=\"blue\">[2.3)](#toa)(5 pts) Calculate the initial mass of the sphere and final mass after 1 year.</font><a id=\"a23\"></a>"
   ]
  },
  {
   "cell_type": "markdown",
   "metadata": {},
   "source": [
    "<font color=\"blue\">**Answer:**</font>"
   ]
  },
  {
   "cell_type": "markdown",
   "metadata": {},
   "source": [
    "### <font color=\"blue\">[2.4)](#toa)(3 pts) Calculate the mass loss.</font><a id=\"a24\"></a>"
   ]
  },
  {
   "cell_type": "markdown",
   "metadata": {},
   "source": [
    "<font color=\"blue\">**Answer:**</font>"
   ]
  },
  {
   "cell_type": "markdown",
   "metadata": {},
   "source": [
    "### <font color=\"blue\">[2.5)](#toa)(10 pts) Find an alternative way to calculate the mass loss and compare with 2.4).</font><a id=\"a25\"></a>"
   ]
  },
  {
   "cell_type": "markdown",
   "metadata": {},
   "source": [
    "<font color=\"blue\">**Answer:**</font>"
   ]
  },
  {
   "cell_type": "markdown",
   "metadata": {},
   "source": [
    "### <font color=\"blue\">[2.6)](#toa)(10 pts) If the energy emitted in one year by the $^{60}\\text{Co}$ source could be converted in electricity, how long a typical residence in Massachussets could be powered for in 2022? (assume a conversion efficiency of 20%).</font><a id=\"a26\"></a>"
   ]
  },
  {
   "cell_type": "markdown",
   "metadata": {},
   "source": [
    "<font color=\"blue\">**Answer:**</font>"
   ]
  },
  {
   "cell_type": "markdown",
   "metadata": {},
   "source": [
    "## <font color=\"blue\">[Problem 3 (45 pts)](#toa)</font><a id=\"a3\"></a>"
   ]
  },
  {
   "cell_type": "markdown",
   "metadata": {},
   "source": [
    "### <font color=\"blue\"> A stable nuclide $X$ is reacted with particle $n$ (*e.g.* a neutron} to give a radionuclide $Y$ with decay constant $\\lambda_Y$. Denote $c_{X0}$ as the  concentration of $X$ when the reaction starts, and assume there is no $Y$ when the reaction starts. It is of practical interest to know the maximum activity of $Y$ and at what time the maximum is reached. Please address the sub-items below. </font>"
   ]
  },
  {
   "cell_type": "markdown",
   "metadata": {},
   "source": [
    "### <font color=\"blue\">[3.1)](#toa)(5 pts) Write the reaction mechanism.</font>\n",
    "<a id=\"a31\"></a>"
   ]
  },
  {
   "cell_type": "markdown",
   "metadata": {},
   "source": [
    "<font color=\"blue\">**Answer:**</font>"
   ]
  },
  {
   "cell_type": "markdown",
   "metadata": {},
   "source": [
    "### <font color=\"blue\">[3.2)](#toa)(10 pts) Setup the mathematical model and state your assumptions.</font>\n",
    "<a id=\"a32\"></a>"
   ]
  },
  {
   "cell_type": "markdown",
   "metadata": {},
   "source": [
    "<font color=\"blue\">**Answer:**</font>"
   ]
  },
  {
   "cell_type": "markdown",
   "metadata": {},
   "source": [
    "### <font color=\"blue\">[3.3)](#toa)(20 pts) Calculate the maximum activity of $Y$ and when it occurs relative to the beginning of the reaction.</font>\n",
    "<a id=\"a33\"></a>"
   ]
  },
  {
   "cell_type": "markdown",
   "metadata": {},
   "source": [
    "<font color=\"blue\">**Answer:**</font>"
   ]
  },
  {
   "cell_type": "markdown",
   "metadata": {},
   "source": [
    "### <font color=\"blue\">[3.4)](#toa)(10 pts) Often times when designing the irradiation apparatus for the reaction in Problem 3.1), the particle $n$ spatial flux magnitude is wanted for a given production activity maximum $A_{Y,\\text{max}}$. Derive the equation needed to find this flux value and explain how to solve it.</font>\n",
    "<a id=\"a34\"></a>"
   ]
  },
  {
   "cell_type": "markdown",
   "metadata": {},
   "source": [
    "<font color=\"blue\">**Answer:**</font>"
   ]
  }
 ],
 "metadata": {
  "kernelspec": {
   "display_name": "Python 3 (ipykernel)",
   "language": "python",
   "name": "python3"
  },
  "language_info": {
   "codemirror_mode": {
    "name": "ipython",
    "version": 3
   },
   "file_extension": ".py",
   "mimetype": "text/x-python",
   "name": "python",
   "nbconvert_exporter": "python",
   "pygments_lexer": "ipython3",
   "version": "3.10.6"
  },
  "latex_envs": {
   "LaTeX_envs_menu_present": true,
   "autoclose": false,
   "autocomplete": true,
   "bibliofile": "biblio.bib",
   "cite_by": "apalike",
   "current_citInitial": 1,
   "eqLabelWithNumbers": true,
   "eqNumInitial": 1,
   "hotkeys": {
    "equation": "Ctrl-E",
    "itemize": "Ctrl-I"
   },
   "labels_anchors": false,
   "latex_user_defs": false,
   "report_style_numbering": false,
   "user_envs_cfg": false
  }
 },
 "nbformat": 4,
 "nbformat_minor": 2
}
