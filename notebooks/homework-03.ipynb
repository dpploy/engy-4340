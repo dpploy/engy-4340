{
 "cells": [
  {
   "cell_type": "markdown",
   "metadata": {},
   "source": [
    "Engy-4340: Nuclear Reactor Theory Fall 2022 UMass Lowell; Prof. V. F. de Almeida **10Oct22**\n",
    "\n",
    "# Homework 03 (11Oct22)\n",
    "\n",
    "$  \n",
    "  \\newcommand{\\Amtrx}{\\boldsymbol{\\mathsf{A}}}\n",
    "  \\newcommand{\\Bmtrx}{\\boldsymbol{\\mathsf{B}}}\n",
    "  \\newcommand{\\Mmtrx}{\\boldsymbol{\\mathsf{M}}}\n",
    "  \\newcommand{\\Imtrx}{\\boldsymbol{\\mathsf{I}}}\n",
    "  \\newcommand{\\Pmtrx}{\\boldsymbol{\\mathsf{P}}}\n",
    "  \\newcommand{\\Lmtrx}{\\boldsymbol{\\mathsf{L}}}\n",
    "  \\newcommand{\\Umtrx}{\\boldsymbol{\\mathsf{U}}}\n",
    "  \\newcommand{\\Smtrx}{\\boldsymbol{\\mathsf{S}}}\n",
    "  \\newcommand{\\xvec}{\\boldsymbol{\\mathsf{x}}}\n",
    "  \\newcommand{\\avec}{\\boldsymbol{\\mathsf{a}}}\n",
    "  \\newcommand{\\bvec}{\\boldsymbol{\\mathsf{b}}}\n",
    "  \\newcommand{\\cvec}{\\boldsymbol{\\mathsf{c}}}\n",
    "  \\newcommand{\\rvec}{\\boldsymbol{\\mathsf{r}}}\n",
    "  \\newcommand{\\fvec}{\\boldsymbol{\\mathsf{f}}}\n",
    "  \\newcommand{\\mvec}{\\boldsymbol{\\mathsf{m}}}\n",
    "  \\newcommand{\\gvec}{\\boldsymbol{\\mathsf{g}}}\n",
    "  \\newcommand{\\zerovec}{\\boldsymbol{\\mathsf{0}}}\n",
    "  \\newcommand{\\norm}[1]{\\bigl\\lVert{#1}\\bigr\\rVert}\n",
    "  \\newcommand{\\transpose}[1]{{#1}^\\top}\n",
    "  \\DeclareMathOperator{\\rank}{rank}\n",
    "  \\newcommand{\\Reals}{\\mathbb{R}}\n",
    "  \\newcommand{\\thetavec}{\\boldsymbol{\\theta}}\n",
    "$"
   ]
  },
  {
   "cell_type": "markdown",
   "metadata": {},
   "source": [
    "### Name: `your name`"
   ]
  },
  {
   "cell_type": "markdown",
   "metadata": {},
   "source": [
    "### Rubric for each assignment: \n",
    "\n",
    "|       Context               |  Points |\n",
    "| -----------------------     | ------- |\n",
    "| Precision of the answer     |   80%   |\n",
    "| Answer Markdown readability |   10%   |\n",
    "| Code readability            |   10%   |"
   ]
  },
  {
   "cell_type": "markdown",
   "metadata": {},
   "source": [
    "### <font color=\"red\">Guidance:</font>\n",
    "\n",
    "+  <span style=\"color:red\">\n",
    "    This is an individual homework. \n",
    "   </span> \n",
    "+  <span style=\"color:red\">\n",
    "    Upload your answers in the Blackboard submission portal as: \n",
    "   </span> \n",
    "   \n",
    "   **lastname-firstname-homework-xx.pdf** or **lastname-firstname-homework-xx.ipynb**"
   ]
  },
  {
   "cell_type": "markdown",
   "metadata": {},
   "source": [
    "---\n",
    "## Table of Problems<a id=\"toa\"></a>\n",
    "* [Problem 1 (10 pts)](#a1) Gamma photon.\n",
    " - [1.1)](#a11)(5 pts) Rest mass.\n",
    " - [1.2)](#a12)(5 pts) Mass in motion.\n",
    "* [Problem 2 (15 pts)](#a2) U-235 cross sections.\n",
    " - [2.1)](#a21)(5 pts) Total.\n",
    " - [2.2)](#a22)(5 pts) Capture to fission.\n",
    " - [2.3)](#a23)(5 pts) Comment.\n",
    "* [Problem 3 (25 pts)](#a3) I-131 production.\n",
    "* [Problem 4 (50 pts)](#a3) U-235 foil.\n",
    " - [4.1)](#a41)(10 pts) Reactions.\n",
    " - [4.2)](#a42)(10 pts) Mass change.\n",
    " - [4.3)](#a43)(10 pts) Mass change model.\n",
    " - [4.4)](#a44)(10 pts) Final mass.\n",
    " - [4.5)](#a44)(10 pts) Time for 1% of mass variation.\n",
    "---"
   ]
  },
  {
   "cell_type": "markdown",
   "metadata": {},
   "source": [
    "## <span style=\"color:blue\">[Problem 1 (10 pts)](#toa)</span><a id=\"a1\"></a>"
   ]
  },
  {
   "cell_type": "markdown",
   "metadata": {},
   "source": [
    "### <font color=\"blue\"> A gamma photon travels in empty space without losing energy.\n",
    " </font>"
   ]
  },
  {
   "cell_type": "markdown",
   "metadata": {},
   "source": [
    "### <font color=\"blue\">[1.1)](#toa)(5 pts) If you could stop the gamma photon, what would the rest mass be?</font><a id=\"a11\"></a>"
   ]
  },
  {
   "cell_type": "markdown",
   "metadata": {},
   "source": [
    "<font color=\"blue\">**Answer:**</font>"
   ]
  },
  {
   "cell_type": "markdown",
   "metadata": {},
   "source": [
    "### <font color=\"blue\">[1.2)](#toa)(5 pts) What is the mass of the photon in motion as a function of frequency?</font><a id=\"a12\"></a>"
   ]
  },
  {
   "cell_type": "markdown",
   "metadata": {},
   "source": [
    "<font color=\"blue\">**Answer:**</font>"
   ]
  },
  {
   "cell_type": "markdown",
   "metadata": {},
   "source": [
    "## <font color=\"blue\">[Problem 2 (15 pts)](#toa)</font><a id=\"a2\"></a>"
   ]
  },
  {
   "cell_type": "markdown",
   "metadata": {},
   "source": [
    "### <font color=\"blue\"> Crosss sections of $^{235}\\text{U}$ at 1 MeV are as follows: $\\sigma_a$ = 2.1 b, $\\sigma_\\text{in}$ = 1.8 b, $\\sigma_f$ = 1.2 b, and $\\sigma_e$ = 3.3 b. Other cross sections can be considered negligible. Compute at this energy:\n",
    " </font>"
   ]
  },
  {
   "cell_type": "markdown",
   "metadata": {},
   "source": [
    "### <font color=\"blue\">[2.1)](#toa)(5 pts) The total cross section.</font><a id=\"a21\"></a>"
   ]
  },
  {
   "cell_type": "markdown",
   "metadata": {},
   "source": [
    "<font color=\"blue\">**Answer:**</font>"
   ]
  },
  {
   "cell_type": "markdown",
   "metadata": {},
   "source": [
    "### <font color=\"blue\">[2.2)](#toa)(5 pts) The capture-to-fission cross section ratio.</font><a id=\"a22\"></a>"
   ]
  },
  {
   "cell_type": "markdown",
   "metadata": {},
   "source": [
    "<font color=\"blue\">**Answer:**</font>"
   ]
  },
  {
   "cell_type": "markdown",
   "metadata": {},
   "source": [
    "### <font color=\"blue\">[2.3)](#toa)(5 pts) Comment on this ratio in relation to fast neutron fission reactors.</font><a id=\"a23\"></a>"
   ]
  },
  {
   "cell_type": "markdown",
   "metadata": {},
   "source": [
    "<font color=\"blue\">**Answer:**</font>"
   ]
  },
  {
   "cell_type": "markdown",
   "metadata": {},
   "source": [
    "## <font color=\"blue\">[Problem 3 (25 pts)](#toa)</font><a id=\"a3\"></a>"
   ]
  },
  {
   "cell_type": "markdown",
   "metadata": {},
   "source": [
    "### <font color=\"blue\"> The fission product $^{131}\\text{I}$ has a half-life of 8.03 days and it is produced in fission with a yield of 2.9%, that is, 0.029 atoms of $^{131}\\text{I}$ are produced per fission. Calculate the equilibrium activity of this radionuclide in a reactor operating at 3.3 GW. Note: the charge of the electron is 1.60219 10$^{-19}$ C.\n",
    " </font>"
   ]
  },
  {
   "cell_type": "markdown",
   "metadata": {},
   "source": [
    "<font color=\"blue\">**Answer:**</font>"
   ]
  },
  {
   "cell_type": "markdown",
   "metadata": {},
   "source": [
    "## <font color=\"blue\">[Problem 4 (50 pts)](#toa)</font><a id=\"a4\"></a>"
   ]
  },
  {
   "cell_type": "markdown",
   "metadata": {},
   "source": [
    "### <font color=\"blue\"> An extremely thin foil (say 1 $\\mu$m) of pure $^{235}\\text{U}$ is exposed to a constant neutron flux of 10$^{14}$ neutrons/cm$^2$-s. Interaction data: $\\sigma_a = 684$ b, $\\sigma_f = 585$ b. Pertinent questions follow.\n",
    " </font>"
   ]
  },
  {
   "cell_type": "markdown",
   "metadata": {},
   "source": [
    "### <font color=\"blue\">[4.1)](#toa)(10 pts) Write down the major nuclear reactions taking place in the foil.</font><a id=\"a41\"></a>"
   ]
  },
  {
   "cell_type": "markdown",
   "metadata": {},
   "source": [
    "<font color=\"blue\">**Answer:**</font>"
   ]
  },
  {
   "cell_type": "markdown",
   "metadata": {},
   "source": [
    "### <font color=\"blue\">[4.2)](#toa)(10 pts) Does the mass of the foil change with time? Explain whether it decreases, increases, or stays the same, and why. </font><a id=\"a42\"></a>"
   ]
  },
  {
   "cell_type": "markdown",
   "metadata": {},
   "source": [
    "<font color=\"blue\">**Answer:**</font>"
   ]
  },
  {
   "cell_type": "markdown",
   "metadata": {},
   "source": [
    "### <font color=\"blue\">[4.3)](#toa)(10 pts) If the mass of the foil changes with time, derive a formula of its variation with time relative to its initial value. Explain the assumptions in your model. </font><a id=\"a43\"></a>"
   ]
  },
  {
   "cell_type": "markdown",
   "metadata": {},
   "source": [
    "<font color=\"blue\">**Answer:**</font>"
   ]
  },
  {
   "cell_type": "markdown",
   "metadata": {},
   "source": [
    "### <font color=\"blue\">[4.4)](#toa)(10 pts) Using the derived formula, what is the value of the mass of the foil, relative to its initial value, after a very long time ($t\\rightarrow \\infty$) of exposure to the constant neutron flux?  </font><a id=\"a44\"></a>"
   ]
  },
  {
   "cell_type": "markdown",
   "metadata": {},
   "source": [
    "<font color=\"blue\">**Answer:**</font>"
   ]
  },
  {
   "cell_type": "markdown",
   "metadata": {},
   "source": [
    "### <font color=\"blue\">[4.5)](#toa)(10 pts) Using the derived formula, how long does it take for a relative variation of masss of 1% to occur, if any? </font><a id=\"a45\"></a>"
   ]
  },
  {
   "cell_type": "markdown",
   "metadata": {},
   "source": [
    "<font color=\"blue\">**Answer:**</font>"
   ]
  }
 ],
 "metadata": {
  "kernelspec": {
   "display_name": "Python 3 (ipykernel)",
   "language": "python",
   "name": "python3"
  },
  "language_info": {
   "codemirror_mode": {
    "name": "ipython",
    "version": 3
   },
   "file_extension": ".py",
   "mimetype": "text/x-python",
   "name": "python",
   "nbconvert_exporter": "python",
   "pygments_lexer": "ipython3",
   "version": "3.10.8"
  },
  "latex_envs": {
   "LaTeX_envs_menu_present": true,
   "autoclose": false,
   "autocomplete": true,
   "bibliofile": "biblio.bib",
   "cite_by": "apalike",
   "current_citInitial": 1,
   "eqLabelWithNumbers": true,
   "eqNumInitial": 1,
   "hotkeys": {
    "equation": "Ctrl-E",
    "itemize": "Ctrl-I"
   },
   "labels_anchors": false,
   "latex_user_defs": false,
   "report_style_numbering": false,
   "user_envs_cfg": false
  }
 },
 "nbformat": 4,
 "nbformat_minor": 2
}
